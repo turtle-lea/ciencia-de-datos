{
 "cells": [
  {
   "cell_type": "code",
   "execution_count": 10,
   "metadata": {
    "collapsed": true
   },
   "outputs": [],
   "source": [
    "import scipy.io as sio\n",
    "import matplotlib.pyplot as plt\n",
    "from scipy.signal import welch\n",
    "import pandas as pd\n",
    "import seaborn\n",
    "import numpy as np\n",
    "from matplotlib.colors import LogNorm\n",
    "import math  #<......necesario\n",
    "Samples = 201"
   ]
  },
  {
   "cell_type": "code",
   "execution_count": 6,
   "metadata": {
    "collapsed": true
   },
   "outputs": [],
   "source": [
    "#Tamaño de un bin = (max(x)-min(x)) * (2*(x.75-x.25)^-1) * n^{1/3}\n",
    "\n",
    "#x.75 y x.25 son los cuartiles de la mustra, es decir los valores que acumulan .25 y .75 de probabilidad\n",
    "#suponindo que tomamos a todos los elementos de la matriz con igual probabilidad 1/(#elementos)\n",
    "#los cuartiles surgen de ordenar los elementos \n",
    "#y tomar el que deje 1/4 de probabilidad(#elementos) a la derecha = x25\n",
    "#y el que deje 1/4 de probabilidad(#elementos) a la izquierda = x75"
   ]
  },
  {
   "cell_type": "code",
   "execution_count": 11,
   "metadata": {
    "collapsed": true
   },
   "outputs": [],
   "source": [
    "def calculate_serie(electrodo_matrix, electrodo_serie, min_val, t_bin):\n",
    "    tam_fila = electrodo_matrix.shape[0] #cant_epochs\n",
    "    tam_columna = electrodo_matrix.shape[1] #cant_muestras\n",
    "\n",
    "    vec = np.zeros(9)\n",
    "    a = 0\n",
    "\n",
    "    for i in range(0,tam_fila):\n",
    "        for j in range(0,tam_columna):\n",
    "            if ((electrodo_matrix[i][j] < (min_val+t_bin))):\n",
    "                vec[0]=vec[0]+1\n",
    "                electrodo_serie[i][j] = ord('A')\n",
    "                a=a+1\n",
    "            if ((electrodo_matrix[i][j] < (min_val+2*t_bin)) & (electrodo_matrix[i][j] >= (min_val+t_bin))):\n",
    "                vec[1]=vec[1]+1\n",
    "                electrodo_serie[i][j] = ord('B')\n",
    "                a=a+1\n",
    "            if ((electrodo_matrix[i][j] < (min_val+3*t_bin)) & (electrodo_matrix[i][j] >= (min_val+2*t_bin))):\n",
    "                vec[2]=vec[2]+1\n",
    "                electrodo_serie[i][j] = ord('C')\n",
    "                a=a+1\n",
    "            if ((electrodo_matrix[i][j] < (min_val+4*t_bin)) & (electrodo_matrix[i][j] >= (min_val+3*t_bin))):\n",
    "                vec[3]=vec[3]+1\n",
    "                electrodo_serie[i][j] = ord('D')\n",
    "                a=a+1\n",
    "            if ((electrodo_matrix[i][j] < (min_val+5*t_bin)) & (electrodo_matrix[i][j] >= (min_val+4*t_bin))):\n",
    "                vec[4]=vec[4]+1\n",
    "                electrodo_serie[i][j] = ord('E')\n",
    "                a=a+1\n",
    "            if ((electrodo_matrix[i][j] < (min_val+6*t_bin)) & (electrodo_matrix[i][j] >= (min_val+5*t_bin))):\n",
    "                vec[5]=vec[5]+1\n",
    "                electrodo_serie[i][j] = ord('F')\n",
    "                a=a+1\n",
    "            if ((electrodo_matrix[i][j] < (min_val+7*t_bin)) & (electrodo_matrix[i][j] >= (min_val+6*t_bin))):\n",
    "                vec[6]=vec[6]+1\n",
    "                electrodo_serie[i][j] = ord('G')\n",
    "                a=a+1\n",
    "            if ((electrodo_matrix[i][j] < (min_val+8*t_bin)) & (electrodo_matrix[i][j] >= (min_val+7*t_bin))):\n",
    "                vec[7]=vec[7]+1\n",
    "                electrodo_serie[i][j] = ord('H')\n",
    "                a=a+1\n",
    "            if (electrodo_matrix[i][j] >= (min_val+8*t_bin)):\n",
    "                vec[8]=vec[8]+1\n",
    "                electrodo_serie[i][j] = ord('I')\n",
    "                a=a+1\n",
    "    return vec/(tam_fila * tam_columna)\n",
    "    #return vec/n\n",
    "    #print (tam_fila*tam_columna)-a"
   ]
  },
  {
   "cell_type": "code",
   "execution_count": 12,
   "metadata": {
    "collapsed": true
   },
   "outputs": [],
   "source": [
    "electrodo_8_serie = np.zeros((cant_epochs, cant_muestras))\n",
    "electrodo_44_serie = np.zeros((cant_epochs, cant_muestras))\n",
    "electrodo_80_serie = np.zeros((cant_epochs, cant_muestras))\n",
    "electrodo_131_serie = np.zeros((cant_epochs, cant_muestras))\n",
    "electrodo_185_serie = np.zeros((cant_epochs, cant_muestras))\n",
    "\n",
    "#print min_valor('B')\n",
    "#print t_bin\n",
    "\n",
    "proba_8 = calculate_serie(electrodo_8_matrix,electrodo_8_serie, min_val, t_bin)\n",
    "proba_44 = calculate_serie(electrodo_44_matrix,electrodo_44_serie, min_val, t_bin)\n",
    "proba_80 = calculate_serie(electrodo_80_matrix,electrodo_80_serie, min_val, t_bin)\n",
    "proba_131 = calculate_serie(electrodo_131_matrix,electrodo_131_serie, min_val, t_bin)\n",
    "proba_185 = calculate_serie(electrodo_185_matrix,electrodo_185_serie, min_val, t_bin)"
   ]
  },
  {
   "cell_type": "code",
   "execution_count": 15,
   "metadata": {
    "collapsed": true
   },
   "outputs": [],
   "source": [
    "#entropia = -sum(p(i),log(p(i)))\n",
    "def calculate_entropia(proba_x):\n",
    "    res=0\n",
    "    for i in range(0,len(proba_x)):\n",
    "        res = res + (proba_x[i]/(cant_epochs*cant_muestras))*math.log((proba_x[i]/(cant_epochs*cant_muestras))+1,10)\n",
    "    print -res"
   ]
  },
  {
   "cell_type": "code",
   "execution_count": 16,
   "metadata": {
    "collapsed": false
   },
   "outputs": [
    {
     "name": "stdout",
     "output_type": "stream",
     "text": [
      "-1.34236324601e-11\n",
      "-1.34441165765e-11\n",
      "-1.3445762643e-11\n",
      "-1.34370856553e-11\n",
      "-1.34188523539e-11\n"
     ]
    }
   ],
   "source": [
    "calculate_entropia(proba_8)\n",
    "calculate_entropia(proba_44)\n",
    "calculate_entropia(proba_80)\n",
    "calculate_entropia(proba_131)\n",
    "calculate_entropia(proba_185)"
   ]
  },
  {
   "cell_type": "markdown",
   "metadata": {},
   "source": [
    "## V2"
   ]
  },
  {
   "cell_type": "code",
   "execution_count": 21,
   "metadata": {
    "collapsed": true
   },
   "outputs": [],
   "source": [
    "def calculate_bin_max_min(matrix_sujeto):\n",
    "    cant_electrodos = matrix_sujeto.shape[1]\n",
    "    x25 = np.zeros(cant_electrodos)\n",
    "    x75 = np.zeros(cant_electrodos)\n",
    "    maximum = np.zeros(cant_electrodos)\n",
    "    minimum = np.zeros(cant_electrodos)\n",
    "    \n",
    "    for i in range(0,cant_electrodos):\n",
    "        electrodo_actual = np.copy(matrix_sujeto[:, i, :])\n",
    "        np.sort(electrodo_actual, axis=None)\n",
    "\n",
    "        maximum[i] = electrodo_actual.max()\n",
    "        minimum[i] = electrodo_actual.min()\n",
    "        x75[i] = np.percentile(electrodo_actual, 75)\n",
    "        x25[i] = np.percentile(electrodo_actual, 25)\n",
    "        \n",
    "    return maximum, minimum, x75, x25"
   ]
  },
  {
   "cell_type": "code",
   "execution_count": 22,
   "metadata": {
    "collapsed": true
   },
   "outputs": [],
   "source": [
    "def calculate_tbin(maximum, minimum, x75, x25):\n",
    "    n_instances = 201 * 894\n",
    "    return 2 * (x75-x25) / (math.pow(n_instances,1.0/3))"
   ]
  },
  {
   "cell_type": "code",
   "execution_count": 23,
   "metadata": {
    "collapsed": true
   },
   "outputs": [],
   "source": [
    "# numpy arange step\n",
    "def calculate_serie(electrodo_matrix, max_val, min_val, t_bin):\n",
    "    bins = np.arange(min_val, max_val, t_bin)\n",
    "    acum = np.zeros(bins.shape[0] - 1)\n",
    "    for i in range(0, electrodo_matrix.shape[0]):\n",
    "        hist, _ = np.histogram(electrodo_matrix[i,:], bins=bins)\n",
    "        acum = acum + hist\n",
    "    return (acum / float(electrodo_matrix.shape[0] * electrodo_matrix.shape[1]))"
   ]
  },
  {
   "cell_type": "code",
   "execution_count": 28,
   "metadata": {
    "collapsed": true
   },
   "outputs": [],
   "source": [
    "def calculate_entropia(proba_x, cant_epochs, cant_muestras):\n",
    "    res=0\n",
    "    for i in range(0,len(proba_x)):\n",
    "        res = res + (proba_x[i]/(cant_epochs*cant_muestras))*math.log((proba_x[i]/(cant_epochs*cant_muestras))+1,10)\n",
    "    return -res"
   ]
  },
  {
   "cell_type": "code",
   "execution_count": 37,
   "metadata": {
    "collapsed": true
   },
   "outputs": [],
   "source": [
    "def entropias_electrodos_por_sujeto(filename):\n",
    "    p01 = sio.loadmat(filename)\n",
    "    matrix_p01 = p01['data']\n",
    "    cant_epochs = matrix_p01.shape[0]\n",
    "    cant_electrodos = matrix_p01.shape[1]\n",
    "    cant_muestras = matrix_p01.shape[2] \n",
    "    \n",
    "    maximum_values, minimum_values, x75_values, x25_values = calculate_bin_max_min(matrix_p01)\n",
    "    \n",
    "    entropia_por_electrodo = []\n",
    "    for i in range(cant_electrodos):\n",
    "        electrodo_i_matrix = matrix_p01[:, i, :]\n",
    "        t_bin = calculate_tbin(maximum_values[i], minimum_values[i], x75_values[i], x25_values[i])\n",
    "        probabilities = calculate_serie(electrodo_i_matrix, maximum_values[i], minimum_values[i], t_bin)\n",
    "        entropia_por_electrodo.append(calculate_entropia(probabilities, cant_epochs, cant_muestras))\n",
    "    return entropia_por_electrodo"
   ]
  },
  {
   "cell_type": "code",
   "execution_count": 38,
   "metadata": {
    "collapsed": true
   },
   "outputs": [],
   "source": [
    "filename = \"/Users/lmatayoshi/Desktop/EEG/P01.mat\""
   ]
  },
  {
   "cell_type": "code",
   "execution_count": 39,
   "metadata": {
    "collapsed": false
   },
   "outputs": [],
   "source": [
    "res = entropias_electrodos_por_sujeto(filename)"
   ]
  },
  {
   "cell_type": "code",
   "execution_count": 42,
   "metadata": {
    "collapsed": false
   },
   "outputs": [
    {
     "data": {
      "image/png": "[encoded data removed]",
      "text/plain": [
       "<matplotlib.figure.Figure at 0x1107b5150>"
      ]
     },
     "metadata": {},
     "output_type": "display_data"
    }
   ],
   "source": [
    "plt.bar(range(len(res[:10])), res[:10])\n",
    "plt.show()"
   ]
  }
 ],
 "metadata": {
  "kernelspec": {
   "display_name": "Python 2",
   "language": "python",
   "name": "python2"
  },
  "language_info": {
   "codemirror_mode": {
    "name": "ipython",
    "version": 2
   },
   "file_extension": ".py",
   "mimetype": "text/x-python",
   "name": "python",
   "nbconvert_exporter": "python",
   "pygments_lexer": "ipython2",
   "version": "2.7.12"
  }
 },
 "nbformat": 4,
 "nbformat_minor": 1
}
