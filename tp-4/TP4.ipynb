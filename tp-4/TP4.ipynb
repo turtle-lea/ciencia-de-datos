{
 "cells": [
  {
   "cell_type": "code",
   "execution_count": 156,
   "metadata": {
    "collapsed": false
   },
   "outputs": [],
   "source": [
    "import pandas as pd\n",
    "import numpy as np"
   ]
  },
  {
   "cell_type": "code",
   "execution_count": 105,
   "metadata": {
    "collapsed": true
   },
   "outputs": [],
   "source": [
    "filename = \"/Users/lmatayoshi/Documents/Projects/repo-ciencia-datos/tp-4/clean_data.csv\""
   ]
  },
  {
   "cell_type": "code",
   "execution_count": 161,
   "metadata": {
    "collapsed": true
   },
   "outputs": [],
   "source": [
    "def filter_word(word):\n",
    "    word = word.replace(\" \", \"\")\n",
    "    word = word.replace(\"--\", \"-\")\n",
    "    word = word.upper()\n",
    "    return word.replace(\"\\\\.\", \"\")"
   ]
  },
  {
   "cell_type": "code",
   "execution_count": 197,
   "metadata": {
    "collapsed": false
   },
   "outputs": [],
   "source": [
    "co_autores = []\n",
    "autores = []\n",
    "lobos_solitarios = []\n",
    "\n",
    "with open(filename,'r') as f:\n",
    "    for line in f:\n",
    "        line = line.split(',')\n",
    "        line = line[3].split('&')\n",
    "        cleaned_line = [filter_word(w) for w in line]\n",
    "        if len(cleaned_line) > 1:\n",
    "            co_autores.append(cleaned_line)\n",
    "            for i in cleaned_line:\n",
    "                autores.append(i)\n",
    "        else:\n",
    "            lobos_solitarios.append(cleaned_line)\n",
    "\n",
    "autores= list(set(autores))"
   ]
  },
  {
   "cell_type": "code",
   "execution_count": 198,
   "metadata": {
    "collapsed": true
   },
   "outputs": [],
   "source": [
    " #6,7, 12\n",
    "black_list = [\n",
    "    ')',\n",
    "    '-p-dedonder',\n",
    "    '10',\n",
    "    '14p',\n",
    "    'a',\n",
    "    'pages',\n",
    "    'p',\n",
    "    'eds.h.-d.doebnere.a.worldsci.',\n",
    "    'conclusions'\n",
    "]\n"
   ]
  },
  {
   "cell_type": "code",
   "execution_count": 190,
   "metadata": {
    "collapsed": false
   },
   "outputs": [
    {
     "name": "stdout",
     "output_type": "stream",
     "text": [
      ")\n",
      "-p-dedonder\n",
      "10\n",
      "14p\n",
      "a\n",
      "pages\n",
      "p\n",
      "eds.h.-d.doebnere.a.worldsci.\n",
      "conclusions\n"
     ]
    }
   ],
   "source": [
    "for b in black_list:\n",
    "    print b\n",
    "    autores.remove(b.upper())"
   ]
  },
  {
   "cell_type": "code",
   "execution_count": 199,
   "metadata": {
    "collapsed": false
   },
   "outputs": [
    {
     "name": "stdout",
     "output_type": "stream",
     "text": [
      "3684\n"
     ]
    }
   ],
   "source": [
    "autores_size = len(autores)\n",
    "print autores_size\n",
    "#co_autores\n",
    "adys = np.zeros((autores_size,autores_size))"
   ]
  },
  {
   "cell_type": "code",
   "execution_count": 200,
   "metadata": {
    "collapsed": false
   },
   "outputs": [],
   "source": [
    "co_autores_data = pd.DataFrame(data=adys, columns=autores, index=autores)"
   ]
  },
  {
   "cell_type": "code",
   "execution_count": 211,
   "metadata": {
    "collapsed": false
   },
   "outputs": [
    {
     "data": {
      "text/plain": [
       "0.0"
      ]
     },
     "execution_count": 211,
     "metadata": {},
     "output_type": "execute_result"
    }
   ],
   "source": [
    "co_autores_data['AOKI']['AOKI']"
   ]
  },
  {
   "cell_type": "code",
   "execution_count": null,
   "metadata": {
    "collapsed": false
   },
   "outputs": [],
   "source": [
    "for A in autores:\n",
    "    for B in autores:\n",
    "        for TUPLA in co_autores:\n",
    "            if(A in TUPLA and B in TUPLA):\n",
    "                co_autores_data[A][B]=co_autores_data[A][B]+1\n",
    "                co_autores_data[B][A]=co_autores_data[B][A]+1"
   ]
  },
  {
   "cell_type": "code",
   "execution_count": null,
   "metadata": {
    "collapsed": true
   },
   "outputs": [],
   "source": []
  }
 ],
 "metadata": {
  "kernelspec": {
   "display_name": "Python 2",
   "language": "python",
   "name": "python2"
  },
  "language_info": {
   "codemirror_mode": {
    "name": "ipython",
    "version": 2
   },
   "file_extension": ".py",
   "mimetype": "text/x-python",
   "name": "python",
   "nbconvert_exporter": "python",
   "pygments_lexer": "ipython2",
   "version": "2.7.12"
  }
 },
 "nbformat": 4,
 "nbformat_minor": 1
}
