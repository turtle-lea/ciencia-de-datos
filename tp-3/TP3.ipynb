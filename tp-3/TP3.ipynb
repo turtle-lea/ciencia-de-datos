{
 "cells": [
  {
   "cell_type": "markdown",
   "metadata": {},
   "source": [
    "# TP3"
   ]
  },
  {
   "cell_type": "code",
   "execution_count": 177,
   "metadata": {
    "collapsed": false
   },
   "outputs": [],
   "source": [
    "import scipy.io as sio\n",
    "import matplotlib.pyplot as plt\n",
    "from scipy.signal import welch\n",
    "import scipy as sp\n",
    "import pandas as pd\n",
    "import seaborn\n",
    "import numpy as np\n",
    "from matplotlib.colors import LogNorm\n",
    "import math\n",
    "import itertools\n",
    "import sklearn.metrics\n",
    "\n",
    "%matplotlib inline\n",
    "\n",
    "Samples = 201\n",
    "Duration = 0.8\n",
    "\n",
    "DELTA = (0,4)\n",
    "THETA = (4,8)\n",
    "ALPHA = (8,13)\n",
    "BETA = (13,30)\n",
    "GAMMA = (30,45) \n",
    "\n",
    "electrodes = [4,12,13,14,19,20,21,22,25,26,27,28,29,31,32,33,34,35]"
   ]
  },
  {
   "cell_type": "code",
   "execution_count": 133,
   "metadata": {
    "collapsed": false
   },
   "outputs": [
    {
     "data": {
      "text/plain": [
       "18"
      ]
     },
     "execution_count": 133,
     "metadata": {},
     "output_type": "execute_result"
    }
   ],
   "source": [
    "cant_electrodes = len(electrodes)\n",
    "cant_electrodes"
   ]
  },
  {
   "cell_type": "markdown",
   "metadata": {},
   "source": [
    "### sujetos"
   ]
  },
  {
   "cell_type": "code",
   "execution_count": 9,
   "metadata": {
    "collapsed": true
   },
   "outputs": [],
   "source": [
    "SUJETOS_P = [\"/Users/lmatayoshi/Desktop/EEG/P\" + str(0) + str(i) + \".mat\" for i in range(1,10)]\n",
    "SUJETOS_P.append(\"/Users/lmatayoshi/Desktop/EEG/P10.mat\")\n",
    "\n",
    "SUJETOS_S = [\"/Users/lmatayoshi/Desktop/EEG/S\" + str(0) + str(i) + \".mat\" for i in range(1,10)]\n",
    "SUJETOS_S.append(\"/Users/lmatayoshi/Desktop/EEG/S10.mat\")"
   ]
  },
  {
   "cell_type": "code",
   "execution_count": 71,
   "metadata": {
    "collapsed": true
   },
   "outputs": [],
   "source": [
    "def banda_frecuencia_groups(electrodes):\n",
    "    frecuencias_mean_S = []\n",
    "    frecuencias_mean_P = []\n",
    "    frecuencias_std_P = []\n",
    "    frecuencias_std_S = []\n",
    "    for sujeto_S in SUJETOS_S:\n",
    "        bandas_df_mean,bandas_df_sd = bandas_frecuencia_sujeto(sujeto_S,electrodes)\n",
    "        frecuencias_mean_S.append(bandas_df_mean)\n",
    "        frecuencias_std_S.append(bandas_df_sd)\n",
    "    for sujeto_P in SUJETOS_P:\n",
    "        bandas_df_mean,bandas_df_sd = bandas_frecuencia_sujeto(sujeto_P,electrodes)\n",
    "        frecuencias_mean_P.append(bandas_df_mean)\n",
    "        frecuencias_std_P.append(bandas_df_sd)    \n",
    "    return frecuencias_mean_S, frecuencias_std_S, frecuencias_mean_P, frecuencias_std_P\n",
    "\n",
    "def bandas_frecuencia_sujeto(sujeto,electrodes): \n",
    "    \"\"\"\n",
    "    Esta función se realizo para gráficar las bandas de frecuencia para un solo sujeto (con fines de economizar tiempo)\n",
    "    En caso de de ser necesario puede agrandarse a varios sujetos,  ver 2.e \n",
    "    \"\"\"\n",
    "    \n",
    "    sujeto_matrix = sio.loadmat(sujeto)\n",
    "    sujeto_matrix = sujeto_matrix['data']\n",
    "    mean_electrodos = np.mean(sujeto_matrix[:,electrodes,:], axis=1) # Promedio de todos los electrodos\n",
    "    \n",
    "    f, Pxx = welch(mean_electrodos, float(Samples/Duration), nfft=1025) # Realizo un welch por epoca\n",
    "\n",
    "    xs = []\n",
    "    for i in [DELTA[1],THETA[1],ALPHA[1],BETA[1],GAMMA[1]]:\n",
    "        for j in range(0,len(f)):\n",
    "            if(f[j]>i):\n",
    "                xs.append(j);\n",
    "                break;\n",
    "    #·hicimos la banda de frecuencia promedidada por cada epoch\n",
    "    \n",
    "    epochs_x_banda=np.zeros((Pxx.shape[0], 5))\n",
    "    for epoch in range(0, Pxx.shape[0]):\n",
    "        delta_epoch = np.mean(Pxx[epoch][0:xs[0]])\n",
    "        theta_epoch = np.mean(Pxx[epoch][xs[0]:xs[1]])\n",
    "        alpha_epoch = np.mean(Pxx[epoch][xs[1]:xs[2]])\n",
    "        beta_epoch = np.mean(Pxx[epoch][xs[2]:xs[3]])\n",
    "        gamma_epoch = np.mean(Pxx[epoch][xs[3]:])\n",
    "        epochs_x_banda[epoch] = np.array([delta_epoch, theta_epoch, alpha_epoch, beta_epoch, gamma_epoch])\n",
    "                \n",
    "    todas = np.mean(epochs_x_banda, axis=0)\n",
    "    todis = np.std(epochs_x_banda, axis=0)\n",
    "\n",
    "    \n",
    "    #print todas.shape\n",
    "    \n",
    "    \n",
    "    #electrodes_power_mean = np.mean(Pxx, axis=0) # Se promedian las potencias de todas las epocas, se obtiene\n",
    "                                                 # de esta manera, un valor de potencia promedio para cada frec\n",
    "    \n",
    "    \n",
    "    bandas_df_mean = pd.DataFrame(todas, index=[\"Delta\", \"Theta\", \"Alpha\", \"Beta\", \"Gamma\"])\n",
    "    bandas_df_sd = pd.DataFrame (todis, index=[\"Delta_SD\", \"Theta_SD\", \"Alpha_SD\", \"Beta_SD\", \"Gamma_SD\"])\n",
    "    #bandas_power = ([Delta, Theta, Alpha, Beta, Gamma],[Delta_SD, Theta_SD, Alpha_SD, Beta_SD, Gamma_SD])\n",
    "    return todas,todis"
   ]
  },
  {
   "cell_type": "code",
   "execution_count": 103,
   "metadata": {
    "collapsed": false
   },
   "outputs": [],
   "source": [
    "frecuencias_mean_S, frecuencias_std_S, frecuencias_mean_P, frecuencias_std_P = banda_frecuencia_groups(electrodes)"
   ]
  },
  {
   "cell_type": "code",
   "execution_count": 106,
   "metadata": {
    "collapsed": false
   },
   "outputs": [
    {
     "data": {
      "text/plain": [
       "<function matplotlib.pyplot.show>"
      ]
     },
     "execution_count": 106,
     "metadata": {},
     "output_type": "execute_result"
    },
    {
     "data": {
      "image/png": "[encoded data removed]",
      "text/plain": [
       "<matplotlib.figure.Figure at 0x111b88cd0>"
      ]
     },
     "metadata": {},
     "output_type": "display_data"
    }
   ],
   "source": [
    "plt.plot(frecuencias_std_S)\n",
    "plt.show"
   ]
  },
  {
   "cell_type": "markdown",
   "metadata": {},
   "source": [
    "# normalizacion"
   ]
  },
  {
   "cell_type": "code",
   "execution_count": 78,
   "metadata": {
    "collapsed": false
   },
   "outputs": [],
   "source": [
    "arr = range(0,5)\n",
    "m = np.vstack((arr,arr))"
   ]
  },
  {
   "cell_type": "code",
   "execution_count": 79,
   "metadata": {
    "collapsed": false
   },
   "outputs": [
    {
     "data": {
      "text/plain": [
       "array([[0, 1, 2, 3, 4],\n",
       "       [0, 1, 2, 3, 4]])"
      ]
     },
     "execution_count": 79,
     "metadata": {},
     "output_type": "execute_result"
    }
   ],
   "source": [
    "m"
   ]
  },
  {
   "cell_type": "code",
   "execution_count": 82,
   "metadata": {
    "collapsed": false
   },
   "outputs": [
    {
     "data": {
      "text/plain": [
       "10"
      ]
     },
     "execution_count": 82,
     "metadata": {},
     "output_type": "execute_result"
    }
   ],
   "source": [
    "sum(m[0])"
   ]
  },
  {
   "cell_type": "code",
   "execution_count": 111,
   "metadata": {
    "collapsed": true
   },
   "outputs": [],
   "source": [
    "def bandas_normalizadas_groups(electrodes):\n",
    "    frecuencias_mean_S = []\n",
    "    frecuencias_mean_P = []\n",
    "    frecuencias_std_P = []\n",
    "    frecuencias_std_S = []\n",
    "    for sujeto_S in SUJETOS_S:\n",
    "        bandas_df_mean,bandas_df_sd = bandas_frecuencia_normalizadas_sujeto(sujeto_S,electrodes)\n",
    "        frecuencias_mean_S.append(bandas_df_mean)\n",
    "        frecuencias_std_S.append(bandas_df_sd)\n",
    "    for sujeto_P in SUJETOS_P:\n",
    "        bandas_df_mean,bandas_df_sd = bandas_frecuencia_normalizadas_sujeto(sujeto_P,electrodes)\n",
    "        frecuencias_mean_P.append(bandas_df_mean)\n",
    "        frecuencias_std_P.append(bandas_df_sd)    \n",
    "    return frecuencias_mean_S, frecuencias_std_S, frecuencias_mean_P, frecuencias_std_P\n",
    "\n",
    "def bandas_frecuencia_normalizadas_sujeto(sujeto,electrodes): \n",
    "    \"\"\"\n",
    "    Esta función se realizo para gráficar las bandas de frecuencia para un solo sujeto (con fines de economizar tiempo)\n",
    "    En caso de de ser necesario puede agrandarse a varios sujetos,  ver 2.e \n",
    "    \"\"\"\n",
    "    \n",
    "    sujeto_matrix = sio.loadmat(sujeto)\n",
    "    sujeto_matrix = sujeto_matrix['data']\n",
    "    mean_electrodos = np.mean(sujeto_matrix[:,electrodes,:], axis=1) # Promedio de todos los electrodos\n",
    "    \n",
    "    f, Pxx = welch(mean_electrodos, float(Samples/Duration), nfft=1025) # Realizo un welch por epoca\n",
    "\n",
    "    xs = []\n",
    "    for i in [DELTA[1],THETA[1],ALPHA[1],BETA[1],GAMMA[1]]:\n",
    "        for j in range(0,len(f)):\n",
    "            if(f[j]>i):\n",
    "                xs.append(j);\n",
    "                break;\n",
    "    #·hicimos la banda de frecuencia promedidada por cada epoch\n",
    "    \n",
    "    \n",
    "    epochs_x_banda=np.zeros((Pxx.shape[0], 5))\n",
    "    for epoch in range(0, Pxx.shape[0]):\n",
    "        valor_de_normalizacion = 1/sum(Pxx[epoch][0:GAMMA[1]])\n",
    "\n",
    "        delta_epoch = np.mean(Pxx[epoch][0:xs[0]])*valor_de_normalizacion\n",
    "        theta_epoch = np.mean(Pxx[epoch][xs[0]:xs[1]])*valor_de_normalizacion\n",
    "        alpha_epoch = np.mean(Pxx[epoch][xs[1]:xs[2]])*valor_de_normalizacion\n",
    "        beta_epoch = np.mean(Pxx[epoch][xs[2]:xs[3]])*valor_de_normalizacion\n",
    "        gamma_epoch = np.mean(Pxx[epoch][xs[3]:])*valor_de_normalizacion\n",
    "        \n",
    "        epochs_x_banda[epoch] = np.array([delta_epoch, theta_epoch, alpha_epoch, beta_epoch, gamma_epoch])\n",
    "                \n",
    "    todas = np.mean(epochs_x_banda, axis=0)\n",
    "    todis = np.std(epochs_x_banda, axis=0)\n",
    "\n",
    "    \n",
    "    #print todas.shape\n",
    "    \n",
    "    \n",
    "    #electrodes_power_mean = np.mean(Pxx, axis=0) # Se promedian las potencias de todas las epocas, se obtiene\n",
    "                                                 # de esta manera, un valor de potencia promedio para cada frec\n",
    "    \n",
    "    \n",
    "    bandas_df_mean = pd.DataFrame(todas, index=[\"Delta\", \"Theta\", \"Alpha\", \"Beta\", \"Gamma\"])\n",
    "    bandas_df_sd = pd.DataFrame (todis, index=[\"Delta_SD\", \"Theta_SD\", \"Alpha_SD\", \"Beta_SD\", \"Gamma_SD\"])\n",
    "    #bandas_power = ([Delta, Theta, Alpha, Beta, Gamma],[Delta_SD, Theta_SD, Alpha_SD, Beta_SD, Gamma_SD])\n",
    "    return todas,todis"
   ]
  },
  {
   "cell_type": "code",
   "execution_count": 112,
   "metadata": {
    "collapsed": false,
    "scrolled": true
   },
   "outputs": [],
   "source": [
    "frecuencias_mean_S, frecuencias_std_S, frecuencias_mean_P, frecuencias_std_P = bandas_normalizadas_groups(electrodes)"
   ]
  },
  {
   "cell_type": "code",
   "execution_count": 116,
   "metadata": {
    "collapsed": false
   },
   "outputs": [
    {
     "data": {
      "text/plain": [
       "<function matplotlib.pyplot.show>"
      ]
     },
     "execution_count": 116,
     "metadata": {},
     "output_type": "execute_result"
    },
    {
     "data": {
      "image/png": "[encoded data removed]",
      "text/plain": [
       "<matplotlib.figure.Figure at 0x112e0b390>"
      ]
     },
     "metadata": {},
     "output_type": "display_data"
    }
   ],
   "source": [
    "#plt.plot(frecuencias_mean_S)\n",
    "plt.plot(frecuencias_mean_P)\n",
    "plt.show"
   ]
  },
  {
   "cell_type": "markdown",
   "metadata": {},
   "source": [
    "# Entropia intraelectrodo"
   ]
  },
  {
   "cell_type": "code",
   "execution_count": 124,
   "metadata": {
    "collapsed": true
   },
   "outputs": [],
   "source": [
    "def calculate_bin_max_min(matrix_sujeto):\n",
    "    cant_electrodos = matrix_sujeto.shape[1]\n",
    "    x25 = np.zeros(cant_electrodos)\n",
    "    x75 = np.zeros(cant_electrodos)\n",
    "    maximum = np.zeros(cant_electrodos)\n",
    "    minimum = np.zeros(cant_electrodos)\n",
    "    \n",
    "    for i in range(0,cant_electrodos):\n",
    "        electrodo_actual = np.copy(matrix_sujeto[:, i, :])\n",
    "        np.sort(electrodo_actual, axis=None)\n",
    "\n",
    "        maximum[i] = electrodo_actual.max()\n",
    "        minimum[i] = electrodo_actual.min()\n",
    "        x75[i] = np.percentile(electrodo_actual, 75)\n",
    "        x25[i] = np.percentile(electrodo_actual, 25)\n",
    "        \n",
    "    return np.max(maximum), np.min(minimum), np.mean(x75), np.mean(x25)"
   ]
  },
  {
   "cell_type": "code",
   "execution_count": 125,
   "metadata": {
    "collapsed": true
   },
   "outputs": [],
   "source": [
    "def calculate_tbin(maximum, minimum, x75, x25, matrix_shape):\n",
    "    n_instances = matrix_shape[0] * matrix_shape[2]\n",
    "    return 2 * (x75-x25) / (math.pow(n_instances,1.0/3))"
   ]
  },
  {
   "cell_type": "code",
   "execution_count": 126,
   "metadata": {
    "collapsed": true
   },
   "outputs": [],
   "source": [
    "# numpy arange step\n",
    "def calculate_probabilities(electrodo_matrix, max_val, min_val, t_bin):\n",
    "    bins = np.arange(min_val, max_val, t_bin)\n",
    "    acum = np.zeros(bins.shape[0] - 1)\n",
    "    for i in range(0, electrodo_matrix.shape[0]):\n",
    "        hist, _ = np.histogram(electrodo_matrix[i,:], bins=bins)\n",
    "        acum = acum + hist\n",
    "    return (acum / float(electrodo_matrix.shape[0] * electrodo_matrix.shape[1]))"
   ]
  },
  {
   "cell_type": "code",
   "execution_count": 127,
   "metadata": {
    "collapsed": true
   },
   "outputs": [],
   "source": [
    "def calculate_entropia(proba_x, cant_epochs, cant_muestras):\n",
    "    res=0\n",
    "    for i in range(0,len(proba_x)):\n",
    "        if proba_x[i] > 0:\n",
    "            res = res + (proba_x[i]/(cant_epochs*cant_muestras))*math.log((proba_x[i]/(cant_epochs*cant_muestras)),10)\n",
    "    return -res"
   ]
  },
  {
   "cell_type": "code",
   "execution_count": 128,
   "metadata": {
    "collapsed": true
   },
   "outputs": [],
   "source": [
    "def entropias_electrodos_por_sujeto(filename):\n",
    "    p01 = sio.loadmat(filename)\n",
    "    matrix_p01 = p01['data']\n",
    "    cant_epochs = matrix_p01.shape[0]\n",
    "    #cant_electrodos = matrix_p01.shape[1]\n",
    "    cant_muestras = matrix_p01.shape[2] \n",
    "    \n",
    "    max_value, min_value, x75, x25 = calculate_bin_max_min(matrix_p01)\n",
    "    t_bin = calculate_tbin(max_value, min_value, x75, x25, matrix_p01.shape)\n",
    "    \n",
    "    global electrodes\n",
    "\n",
    "    entropia_por_electrodo = []\n",
    "    for i in electrodes:\n",
    "        electrodo_i_matrix = matrix_p01[:, i, :]\n",
    "        #t_bin = calculate_tbin(maximum_values[i], minimum_values[i], x75_values[i], x25_values[i])\n",
    "        probabilities = calculate_probabilities(electrodo_i_matrix, max_value, min_value, t_bin)\n",
    "        entropia_por_electrodo.append(calculate_entropia(probabilities, cant_epochs, cant_muestras))\n",
    "    return entropia_por_electrodo"
   ]
  },
  {
   "cell_type": "code",
   "execution_count": 145,
   "metadata": {
    "collapsed": false
   },
   "outputs": [],
   "source": [
    "def calculate_entropias_group():\n",
    "    entropias_group_mean = np.zeros((2,10))\n",
    "    entropias_group_std = np.zeros((2,10))\n",
    "    for i in range(0,len(SUJETOS_S)):\n",
    "        res_P = entropias_electrodos_por_sujeto(SUJETOS_P[i])\n",
    "        entropias_group_mean[0][i]=np.mean(res_P)\n",
    "        entropias_group_std[0][i]=np.std(res_P)\n",
    "        res_S = entropias_electrodos_por_sujeto(SUJETOS_S[i])\n",
    "        entropias_group_mean[1][i]=np.mean(res_S)\n",
    "        entropias_group_std[1][i]=np.std(res_S)\n",
    "    return entropias_group_mean, entropias_group_std"
   ]
  },
  {
   "cell_type": "code",
   "execution_count": 146,
   "metadata": {
    "collapsed": false
   },
   "outputs": [],
   "source": [
    "entropias_group_mean, entropias_group_std = calculate_entropias_group()"
   ]
  },
  {
   "cell_type": "code",
   "execution_count": 151,
   "metadata": {
    "collapsed": false
   },
   "outputs": [
    {
     "data": {
      "text/plain": [
       "(2, 10)"
      ]
     },
     "execution_count": 151,
     "metadata": {},
     "output_type": "execute_result"
    }
   ],
   "source": [
    "entropias_group_mean.shape"
   ]
  },
  {
   "cell_type": "code",
   "execution_count": 153,
   "metadata": {
    "collapsed": false
   },
   "outputs": [
    {
     "data": {
      "text/plain": [
       "(2, 10)"
      ]
     },
     "execution_count": 153,
     "metadata": {},
     "output_type": "execute_result"
    }
   ],
   "source": [
    "entropias_group_std.shape"
   ]
  },
  {
   "cell_type": "code",
   "execution_count": 159,
   "metadata": {
    "collapsed": false
   },
   "outputs": [
    {
     "data": {
      "text/plain": [
       "array([[  5.11834124e-05,   2.39958870e-05],\n",
       "       [  4.47020475e-05,   4.80614377e-05]])"
      ]
     },
     "execution_count": 159,
     "metadata": {},
     "output_type": "execute_result"
    }
   ],
   "source": [
    "entropias_group_mean[:, [2,3]]"
   ]
  },
  {
   "cell_type": "code",
   "execution_count": 174,
   "metadata": {
    "collapsed": false
   },
   "outputs": [
    {
     "data": {
      "text/plain": [
       "(20,)"
      ]
     },
     "execution_count": 174,
     "metadata": {},
     "output_type": "execute_result"
    }
   ],
   "source": []
  },
  {
   "cell_type": "code",
   "execution_count": 179,
   "metadata": {
    "collapsed": false
   },
   "outputs": [],
   "source": [
    "labels = [1] * 10 + [0] * 10\n",
    "values = np.concatenate((entropias_group_mean[1], entropias_group_mean[0]))\n",
    "#fpr, tpr, thresholds = metrics.roc_curve(y, scores, pos_label=2)\n",
    "fpr, tpr, _ = sklearn.metrics.roc_curve(labels, values)"
   ]
  },
  {
   "cell_type": "code",
   "execution_count": 184,
   "metadata": {
    "collapsed": true
   },
   "outputs": [],
   "source": [
    "xs = np.linspace(0, 1, 10)"
   ]
  },
  {
   "cell_type": "code",
   "execution_count": 185,
   "metadata": {
    "collapsed": false
   },
   "outputs": [
    {
     "data": {
      "text/plain": [
       "[<matplotlib.lines.Line2D at 0x1128c7050>]"
      ]
     },
     "execution_count": 185,
     "metadata": {},
     "output_type": "execute_result"
    },
    {
     "data": {
      "image/png": "[encoded data removed]",
      "text/plain": [
       "<matplotlib.figure.Figure at 0x111d90550>"
      ]
     },
     "metadata": {},
     "output_type": "display_data"
    }
   ],
   "source": [
    "plt.plot(fpr, tpr)\n",
    "plt.plot(xs, xs, linestyle=\"--\")"
   ]
  },
  {
   "cell_type": "markdown",
   "metadata": {},
   "source": [
    "# Entropia conjunta  Interelectrodo"
   ]
  },
  {
   "cell_type": "code",
   "execution_count": 147,
   "metadata": {
    "collapsed": true
   },
   "outputs": [],
   "source": [
    "def calculate_serie(electrodo_matrix, electrodo_serie, min_val, t_bin, cant_bins):\n",
    "    tam_fila = electrodo_matrix.shape[0] #cant_epochs\n",
    "    tam_columna = electrodo_matrix.shape[1] #cant_muestras\n",
    "\n",
    "    vec = np.zeros(cant_bins)\n",
    "    a = 0\n",
    "    \n",
    "    for i in range(0,tam_fila):\n",
    "        for j in range(0,tam_columna):\n",
    "            bin_index = int((electrodo_matrix[i][j]-min_val)/t_bin)\n",
    "            vec[bin_index]=vec[bin_index]+1\n",
    "            electrodo_serie[i][j] = ord('A')+bin_index\n",
    "            a=a+1"
   ]
  },
  {
   "cell_type": "code",
   "execution_count": 148,
   "metadata": {
    "collapsed": true
   },
   "outputs": [],
   "source": [
    "def probabilidad_conjunta(matrix_serie_1,matrix_serie_2, cant_bins):\n",
    "    \n",
    "    mat_PConjunta = np.zeros((cant_bins,cant_bins))\n",
    "\n",
    "    tam_fila_serie = matrix_serie_1.shape[0]\n",
    "    tam_columna_serie = matrix_serie_1.shape[1]\n",
    "\n",
    "    size_serie = tam_fila_serie*tam_columna_serie\n",
    "    \n",
    "    for i in range(0,tam_fila_serie):\n",
    "        for j in range(0,tam_columna_serie):\n",
    "            index_f = int(matrix_serie_1[i][j]-ord('A'))\n",
    "            index_c = int(matrix_serie_2[i][j]-ord('A'))\n",
    "            mat_PConjunta[index_f][index_c]=mat_PConjunta[index_f][index_c]+1\n",
    "            \n",
    "    for i in range(0,cant_bins):\n",
    "        for j in range(0,cant_bins):\n",
    "            mat_PConjunta[i][j]=mat_PConjunta[i][j]/size_serie\n",
    "            \n",
    "    return mat_PConjunta"
   ]
  },
  {
   "cell_type": "code",
   "execution_count": 149,
   "metadata": {
    "collapsed": true
   },
   "outputs": [],
   "source": [
    "def calculate_entropia_conjunta(matrix_serie_1,matrix_serie_2,cant_bins):\n",
    "\n",
    "    mat_PConjunta = probabilidad_conjunta(matrix_serie_1,matrix_serie_2,cant_bins)\n",
    "    \n",
    "    res=0\n",
    "    for h in range(0,mat_PConjunta.shape[0]):\n",
    "        for k in range(0,mat_PConjunta.shape[1]):\n",
    "            if(mat_PConjunta[h][k]!=0):\n",
    "                res=res+(mat_PConjunta[h][k])*math.log(mat_PConjunta[h][k])\n",
    "    return -res"
   ]
  },
  {
   "cell_type": "code",
   "execution_count": 154,
   "metadata": {
    "collapsed": true
   },
   "outputs": [],
   "source": [
    "electrodes_grupo_1 = [31, 32, 35]\n",
    "electrodes_grupo_2 = [33, 26, 19, 27, 21, 20]\n",
    "electrodes_grupo_3 = [34, 28, 29, 22]\n",
    "electrodes_grupo_4 = [12, 13, 14, 4, 5]"
   ]
  },
  {
   "cell_type": "code",
   "execution_count": 155,
   "metadata": {
    "collapsed": true
   },
   "outputs": [],
   "source": [
    "electrode_groups = [electrodes_grupo_1, electrodes_grupo_2, electrodes_grupo_3, electrodes_grupo_4]"
   ]
  },
  {
   "cell_type": "code",
   "execution_count": 167,
   "metadata": {
    "collapsed": false
   },
   "outputs": [],
   "source": [
    "p01 = sio.loadmat(\"/Users/lmatayoshi/Desktop/EEG/P01.mat\")\n",
    "matrix_p01 = p01['data']\n",
    "#epoch x electrodos x muestras\n",
    "\n",
    "#Shapes\n",
    "cant_epochs = matrix_p01.shape[0]\n",
    "cant_electrodos = matrix_p01.shape[1]\n",
    "cant_muestras = matrix_p01.shape[2]\n",
    "\n",
    "#Bins\n",
    "max_value, min_value, x75, x25 = calculate_bin_max_min(matrix_p01)\n",
    "t_bin = calculate_tbin(max_value, min_value, x75, x25, matrix_p01.shape)\n",
    "cant_bins = int((max_value-min_value)/t_bin)+1\n",
    "\n",
    "#Matrices\n",
    "array_electrodos_matrix = []\n",
    "array_electrodos_serie = []\n",
    "\n",
    "for g in electrode_groups:\n",
    "    array_electrodos_matrix.append(np.mean(matrix_p01[:, g, :], axis=1))\n",
    "\n",
    "for i in range(0,len(electrode_groups)):\n",
    "    array_electrodos_serie.append(np.zeros((cant_epochs, cant_muestras)))\n",
    "\n",
    "#calculamos las series\n",
    "for i in range(0,len(electrode_groups)):\n",
    "    calculate_serie(array_electrodos_matrix[i],array_electrodos_serie[i], min_value, t_bin, cant_bins)\n",
    "\n",
    "#electrodos tomados de a 2\n",
    "electrodos_tomados_de_a_2 = list(itertools.combinations(range(0,len(electrode_groups)), 2))\n",
    "electrodos_tomados_de_a_2 = [list(e) for e in electrodos_tomados_de_a_2]\n",
    "\n",
    "# El calculo de la entropia conjunta para la combinatoria tarda bastante en ejecutarse (5-10 min)\n",
    "array_entropia_conjunta = []\n",
    "for par in electrodos_tomados_de_a_2:\n",
    "    array_entropia_conjunta.append(calculate_entropia_conjunta(array_electrodos_serie[par[0]],array_electrodos_serie[par[1]],cant_bins))\n",
    "\n",
    "array_entropia_conjunta_P = np.copy(array_entropia_conjunta)"
   ]
  },
  {
   "cell_type": "code",
   "execution_count": 168,
   "metadata": {
    "collapsed": false
   },
   "outputs": [
    {
     "data": {
      "text/plain": [
       "array([ 8.78590493,  9.02135564,  9.2444424 ,  8.65077418,  8.79257585,\n",
       "        8.82015791])"
      ]
     },
     "execution_count": 168,
     "metadata": {},
     "output_type": "execute_result"
    }
   ],
   "source": [
    "array_entropia_conjunta_P"
   ]
  },
  {
   "cell_type": "code",
   "execution_count": null,
   "metadata": {
    "collapsed": true
   },
   "outputs": [],
   "source": []
  }
 ],
 "metadata": {
  "kernelspec": {
   "display_name": "Python 2",
   "language": "python",
   "name": "python2"
  },
  "language_info": {
   "codemirror_mode": {
    "name": "ipython",
    "version": 2
   },
   "file_extension": ".py",
   "mimetype": "text/x-python",
   "name": "python",
   "nbconvert_exporter": "python",
   "pygments_lexer": "ipython2",
   "version": "2.7.12"
  }
 },
 "nbformat": 4,
 "nbformat_minor": 1
}
