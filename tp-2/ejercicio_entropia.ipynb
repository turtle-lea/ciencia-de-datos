{
 "cells": [
  {
   "cell_type": "code",
   "execution_count": 2,
   "metadata": {
    "collapsed": true
   },
   "outputs": [],
   "source": [
    "import scipy.io as sio\n",
    "import matplotlib.pyplot as plt\n",
    "from scipy.signal import welch\n",
    "import pandas as pd\n",
    "import seaborn\n",
    "import numpy as np\n",
    "from matplotlib.colors import LogNorm\n",
    "import math  #<......necesario\n",
    "Samples = 201"
   ]
  },
  {
   "cell_type": "code",
   "execution_count": 3,
   "metadata": {
    "collapsed": true
   },
   "outputs": [],
   "source": [
    "filename = \"/home/natalia/Escritorio/ciencia-de-datos/tp-2/P01.mat\""
   ]
  },
  {
   "cell_type": "code",
   "execution_count": 4,
   "metadata": {
    "collapsed": true
   },
   "outputs": [],
   "source": [
    "p01 = sio.loadmat(filename)"
   ]
  },
  {
   "cell_type": "code",
   "execution_count": 5,
   "metadata": {},
   "outputs": [
    {
     "name": "stdout",
     "output_type": "stream",
     "text": [
      "(894, 256, 201)\n"
     ]
    }
   ],
   "source": [
    "matrix_p01 = p01['data']\n",
    "\n",
    "print matrix_p01.shape\n",
    "\n",
    "#epoch x electrodos x muestras\n",
    "\n",
    "cant_epochs = matrix_p01.shape[0]\n",
    "cant_electrodos = matrix_p01.shape[1]\n",
    "cant_muestras = matrix_p01.shape[2] \n",
    "#SAMPLES"
   ]
  },
  {
   "cell_type": "code",
   "execution_count": 6,
   "metadata": {
    "collapsed": true
   },
   "outputs": [],
   "source": [
    "#electrodo 8\n",
    "electrodo_8_matrix = matrix_p01[:, 8, :]\n",
    "electrodo_44_matrix = matrix_p01[:,44, :]\n",
    "electrodo_80_matrix = matrix_p01[:, 80, :]\n",
    "electrodo_131_matrix = matrix_p01[:, 131, :]\n",
    "electrodo_185_matrix = matrix_p01[:, 185, :]\n",
    "#print electrodo_8_matrix.shape\n",
    "#print electrodo_44_matrix.shape"
   ]
  },
  {
   "cell_type": "code",
   "execution_count": 7,
   "metadata": {
    "collapsed": true
   },
   "outputs": [],
   "source": [
    "#Tamaño de un bin = (max(x)-min(x)) * (2*(x.75-x.25)^-1) * n^{1/3}\n",
    "\n",
    "#x.75 y x.25 son los cuartiles de la mustra, es decir los valores que acumulan .25 y .75 de probabilidad\n",
    "#suponindo que tomamos a todos los elementos de la matriz con igual probabilidad 1/(#elementos)\n",
    "#los cuartiles surgen de ordenar los elementos \n",
    "#y tomar el que deje 1/4 de probabilidad(#elementos) a la derecha = x25\n",
    "#y el que deje 1/4 de probabilidad(#elementos) a la izquierda = x75"
   ]
  },
  {
   "cell_type": "code",
   "execution_count": 8,
   "metadata": {
    "collapsed": true
   },
   "outputs": [],
   "source": [
    "def calculate_bin_max_min(matrix_sujeto, max_val, min_val,t_bin):\n",
    "    x25_parcial = np.zeros(cant_electrodos)\n",
    "    x75_parcial = np.zeros(cant_electrodos)\n",
    "    max_parcial = np.zeros(cant_electrodos)\n",
    "    min_parcial = np.zeros(cant_electrodos)\n",
    "    \n",
    "    #fila y columna de la matriz: electrodo_actual<<\n",
    "    tam_fila = cant_epochs\n",
    "    tam_columna = cant_muestras\n",
    "\n",
    "    n_val = tam_fila*tam_columna\n",
    "\n",
    "    f_x75 = int((n_val*0.75) % tam_fila)\n",
    "    c_x75 = int((n_val*0.75) / tam_fila)\n",
    "    f_x25 = int((n_val*0.25) % tam_fila)\n",
    "    c_x25 = int((n_val*0.25) / tam_fila)\n",
    "\n",
    "    for i in range(0,cant_electrodos):\n",
    "        electrodo_actual = matrix_sujeto[:, i, :]\n",
    "\n",
    "        max_parcial[i] = electrodo_actual.max()\n",
    "        min_parcial[i] = electrodo_actual.min()\n",
    "        \n",
    "        electrodo_actual.sort(axis=0)\n",
    "\n",
    "        x75_parcial[i] = electrodo_actual[f_x75][c_x75]\n",
    "        x25_parcial[i] = electrodo_actual[f_x25][c_x25]\n",
    "        \n",
    "    x25 = np.mean(x25_parcial)\n",
    "    x75 = np.mean(x75_parcial)\n",
    "    max_val = np.mean(max_parcial)\n",
    "    min_val = np.mean(min_parcial)\n",
    "    \n",
    "    t_bin = 2 * (x75-x25) * (math.pow(n_val,1/3))\n",
    "\n",
    "    return max_val,min_val,t_bin\n",
    "    #print (max_val-min_val)/t_bin"
   ]
  },
  {
   "cell_type": "code",
   "execution_count": 9,
   "metadata": {},
   "outputs": [
    {
     "name": "stdout",
     "output_type": "stream",
     "text": [
      "8.69419076427e-05\n",
      "-7.94926540323e-05\n",
      "1.97052410811e-05\n"
     ]
    }
   ],
   "source": [
    "max_val,min_val,t_bin = calculate_bin_max_min(matrix_p01, 0, 0,0)\n",
    "print max_val\n",
    "print min_val\n",
    "print t_bin"
   ]
  },
  {
   "cell_type": "code",
   "execution_count": 10,
   "metadata": {
    "collapsed": true
   },
   "outputs": [],
   "source": [
    "#print electrodo_8_matrix_sort"
   ]
  },
  {
   "cell_type": "code",
   "execution_count": 11,
   "metadata": {
    "collapsed": true
   },
   "outputs": [],
   "source": [
    "#cantidad de bins\n",
    "#print (max_8-min_8)/t_bin"
   ]
  },
  {
   "cell_type": "code",
   "execution_count": 12,
   "metadata": {
    "collapsed": true
   },
   "outputs": [],
   "source": [
    "def calculate_serie(electrodo_matrix, electrodo_serie, min_val, t_bin):\n",
    "    tam_fila = electrodo_matrix.shape[0] #cant_epochs\n",
    "    tam_columna = electrodo_matrix.shape[1] #cant_muestras\n",
    "\n",
    "    vec = np.zeros(9)\n",
    "    a = 0\n",
    "\n",
    "    for i in range(0,tam_fila):\n",
    "        for j in range(0,tam_columna):\n",
    "            if ((electrodo_matrix[i][j] < (min_val+t_bin))):\n",
    "                vec[0]=vec[0]+1\n",
    "                electrodo_serie[i][j] = ord('A')\n",
    "                a=a+1\n",
    "            if ((electrodo_matrix[i][j] < (min_val+2*t_bin)) & (electrodo_matrix[i][j] >= (min_val+t_bin))):\n",
    "                vec[1]=vec[1]+1\n",
    "                electrodo_serie[i][j] = ord('B')\n",
    "                a=a+1\n",
    "            if ((electrodo_matrix[i][j] < (min_val+3*t_bin)) & (electrodo_matrix[i][j] >= (min_val+2*t_bin))):\n",
    "                vec[2]=vec[2]+1\n",
    "                electrodo_serie[i][j] = ord('C')\n",
    "                a=a+1\n",
    "            if ((electrodo_matrix[i][j] < (min_val+4*t_bin)) & (electrodo_matrix[i][j] >= (min_val+3*t_bin))):\n",
    "                vec[3]=vec[3]+1\n",
    "                electrodo_serie[i][j] = ord('D')\n",
    "                a=a+1\n",
    "            if ((electrodo_matrix[i][j] < (min_val+5*t_bin)) & (electrodo_matrix[i][j] >= (min_val+4*t_bin))):\n",
    "                vec[4]=vec[4]+1\n",
    "                electrodo_serie[i][j] = ord('E')\n",
    "                a=a+1\n",
    "            if ((electrodo_matrix[i][j] < (min_val+6*t_bin)) & (electrodo_matrix[i][j] >= (min_val+5*t_bin))):\n",
    "                vec[5]=vec[5]+1\n",
    "                electrodo_serie[i][j] = ord('F')\n",
    "                a=a+1\n",
    "            if ((electrodo_matrix[i][j] < (min_val+7*t_bin)) & (electrodo_matrix[i][j] >= (min_val+6*t_bin))):\n",
    "                vec[6]=vec[6]+1\n",
    "                electrodo_serie[i][j] = ord('G')\n",
    "                a=a+1\n",
    "            if ((electrodo_matrix[i][j] < (min_val+8*t_bin)) & (electrodo_matrix[i][j] >= (min_val+7*t_bin))):\n",
    "                vec[7]=vec[7]+1\n",
    "                electrodo_serie[i][j] = ord('H')\n",
    "                a=a+1\n",
    "            if (electrodo_matrix[i][j] >= (min_val+8*t_bin)):\n",
    "                vec[8]=vec[8]+1\n",
    "                electrodo_serie[i][j] = ord('I')\n",
    "                a=a+1\n",
    "    return vec\n",
    "    #print (tam_fila*tam_columna)-a"
   ]
  },
  {
   "cell_type": "code",
   "execution_count": 13,
   "metadata": {},
   "outputs": [
    {
     "name": "stdout",
     "output_type": "stream",
     "text": [
      "-7.94926540323e-05\n",
      "1.97052410811e-05\n"
     ]
    }
   ],
   "source": [
    "electrodo_8_serie = np.zeros((cant_epochs, cant_muestras))\n",
    "electrodo_44_serie = np.zeros((cant_epochs, cant_muestras))\n",
    "electrodo_80_serie = np.zeros((cant_epochs, cant_muestras))\n",
    "electrodo_131_serie = np.zeros((cant_epochs, cant_muestras))\n",
    "electrodo_185_serie = np.zeros((cant_epochs, cant_muestras))\n",
    "\n",
    "print min_val\n",
    "print t_bin\n",
    "\n",
    "proba_8 = calculate_serie(electrodo_8_matrix,electrodo_8_serie, min_val, t_bin)\n",
    "proba_44 = calculate_serie(electrodo_44_matrix,electrodo_44_serie, min_val, t_bin)\n",
    "proba_80 = calculate_serie(electrodo_80_matrix,electrodo_80_serie, min_val, t_bin)\n",
    "proba_131 = calculate_serie(electrodo_131_matrix,electrodo_131_serie, min_val, t_bin)\n",
    "proba_185 = calculate_serie(electrodo_185_matrix,electrodo_185_serie, min_val, t_bin)"
   ]
  },
  {
   "cell_type": "code",
   "execution_count": 14,
   "metadata": {
    "collapsed": true
   },
   "outputs": [],
   "source": [
    "#electrodo_8_serie"
   ]
  },
  {
   "cell_type": "code",
   "execution_count": 15,
   "metadata": {
    "collapsed": true
   },
   "outputs": [],
   "source": [
    "#entropia = -sum(p(i),log(p(i)))\n",
    "def calculate_entropia(proba_x):\n",
    "    res=0\n",
    "    for i in range(0,len(proba_x)):\n",
    "        res = res + (proba_x[i]/(cant_epochs*cant_muestras))*math.log((proba_x[i]/(cant_epochs*cant_muestras))+1,10)\n",
    "    print -res"
   ]
  },
  {
   "cell_type": "code",
   "execution_count": 16,
   "metadata": {},
   "outputs": [
    {
     "name": "stdout",
     "output_type": "stream",
     "text": [
      "-0.167360321199\n",
      "-0.170232015807\n",
      "-0.170742367687\n",
      "-0.168989829069\n",
      "-0.166108697096\n"
     ]
    }
   ],
   "source": [
    "calculate_entropia(proba_8)\n",
    "calculate_entropia(proba_44)\n",
    "calculate_entropia(proba_80)\n",
    "calculate_entropia(proba_131)\n",
    "calculate_entropia(proba_185)"
   ]
  },
  {
   "cell_type": "code",
   "execution_count": 17,
   "metadata": {
    "collapsed": true
   },
   "outputs": [],
   "source": [
    "def conteo_conjunta(matrix_serie_1,matrix_serie_2):\n",
    "    mat = np.zeros((9,9))\n",
    "\n",
    "    tam_fila_serie = matrix_serie_1.shape[0]\n",
    "    tam_columna_serie = matrix_serie_1.shape[1]\n",
    "\n",
    "    size_serie = tam_fila_serie*tam_columna_serie\n",
    "    \n",
    "    for i in range(0,tam_fila_serie):\n",
    "        for j in range(0,tam_columna_serie):\n",
    "            index_f = int(matrix_serie_1[i][j]-ord('A'))\n",
    "            index_c = int(matrix_serie_2[i][j]-ord('A'))\n",
    "            mat[index_f][index_c]=mat[index_f][index_c]+1\n",
    "    return mat, size_serie"
   ]
  },
  {
   "cell_type": "code",
   "execution_count": 18,
   "metadata": {
    "collapsed": true
   },
   "outputs": [],
   "source": [
    "def calculate_entropia_conjunta(matrix_serie_1,matrix_serie_2):\n",
    "\n",
    "    mat, size_serie = conteo_conjunta(matrix_serie_1,matrix_serie_2)\n",
    "    \n",
    "    res=0\n",
    "    for h in range(0,mat.shape[0]):\n",
    "        for k in range(0,mat.shape[1]):\n",
    "            if(mat[h][k]!=0):\n",
    "                res=res+(mat[h][k]/size_serie)*math.log(mat[h][k]/size_serie)\n",
    "    return -res"
   ]
  },
  {
   "cell_type": "code",
   "execution_count": 19,
   "metadata": {},
   "outputs": [
    {
     "name": "stdout",
     "output_type": "stream",
     "text": [
      "0.917863989709\n",
      "0.942962808704\n",
      "0.881947791172\n"
     ]
    }
   ],
   "source": [
    "print calculate_entropia_conjunta(electrodo_8_serie,electrodo_44_serie)\n",
    "print calculate_entropia_conjunta(electrodo_8_serie,electrodo_80_serie)\n",
    "print calculate_entropia_conjunta(electrodo_44_serie,electrodo_80_serie)"
   ]
  },
  {
   "cell_type": "code",
   "execution_count": 20,
   "metadata": {
    "collapsed": true
   },
   "outputs": [],
   "source": [
    "def calculate_informacion_mutua(matrix_serie_1,matrix_serie_2,proba_1,proba_2):\n",
    "    \n",
    "    mat, size_serie = conteo_conjunta(matrix_serie_1,matrix_serie_2)\n",
    "\n",
    "    tam_fila = mat.shape[0]\n",
    "    tam_columna = mat.shape[1]\n",
    "    res=0\n",
    "    for h in range(0,tam_fila):\n",
    "        for k in range(0,tam_columna):\n",
    "            if((proba_1[h]!=0) & (proba_2[k]!=0) & (mat[h][k]!=0)):\n",
    "                res=res+(mat[h][k]/size_serie)*math.log((mat[h][k]/size_serie)/(proba_1[h]*proba_2[k]))\n",
    "    return -res"
   ]
  },
  {
   "cell_type": "code",
   "execution_count": 21,
   "metadata": {},
   "outputs": [
    {
     "name": "stdout",
     "output_type": "stream",
     "text": [
      "23.4973400677\n",
      "23.5291656544\n",
      "23.5032813084\n"
     ]
    }
   ],
   "source": [
    "print calculate_informacion_mutua(electrodo_8_serie,electrodo_44_serie,proba_8,proba_44)\n",
    "print calculate_informacion_mutua(electrodo_8_serie,electrodo_80_serie,proba_8,proba_80)\n",
    "print calculate_informacion_mutua(electrodo_44_serie,electrodo_80_serie,proba_44,proba_80)"
   ]
  },
  {
   "cell_type": "markdown",
   "metadata": {},
   "source": [
    "#### falta ver que graficamos , el test"
   ]
  },
  {
   "cell_type": "code",
   "execution_count": 89,
   "metadata": {},
   "outputs": [],
   "source": [
    "def media_entre_canales(matrix_sujeto):\n",
    "    matrix_media_electrodos = np.zeros((matrix_sujeto.shape[1],matrix_sujeto.shape[2]))\n",
    "    #matrix_media_electrodos = (electrodos X muestras)\n",
    "    for i in range(0,matrix_sujeto.shape[1]):\n",
    "        electrodo_matrix = matrix_sujeto[:,i,:] # (epochs x muestras)\n",
    "        matrix_media_electrodos[i] = np.mean(electrodo_matrix,axis=0) \n",
    "        #se promedian todos los epochs de 1 electrodo \n",
    "        #entonces queda (electrodos X muestras)\n",
    "        #<- print matrix_media_electrodos[i].shape\n",
    "    #print matrix_media_electrodos.shape\n",
    "    return np.mean(matrix_media_electrodos,axis=0) \n",
    "    #se promedian los electrodos queda (1 x muestras)"
   ]
  },
  {
   "cell_type": "code",
   "execution_count": 93,
   "metadata": {
    "scrolled": true
   },
   "outputs": [
    {
     "data": {
      "text/plain": [
       "(201,)"
      ]
     },
     "execution_count": 93,
     "metadata": {},
     "output_type": "execute_result"
    }
   ],
   "source": [
    "m_e_c = media_entre_canales(matrix_p01)\n",
    "m_e_c.shape \n",
    "#print mec"
   ]
  },
  {
   "cell_type": "code",
   "execution_count": 94,
   "metadata": {},
   "outputs": [
    {
     "data": {
      "image/png": "[encoded data removed]",
      "text/plain": [
       "<matplotlib.figure.Figure at 0x7ff0639069d0>"
      ]
     },
     "metadata": {},
     "output_type": "display_data"
    }
   ],
   "source": [
    "seaborn.violinplot(data = pd.DataFrame(m_e_c) , orient= \"h\", scale= \"width\", palette=\"Set2\")\n",
    "#plt.xlabel(\"V**2/Hz\")\n",
    "plt.show()"
   ]
  },
  {
   "cell_type": "code",
   "execution_count": null,
   "metadata": {
    "collapsed": true
   },
   "outputs": [],
   "source": []
  }
 ],
 "metadata": {
  "kernelspec": {
   "display_name": "Python 2",
   "language": "python",
   "name": "python2"
  },
  "language_info": {
   "codemirror_mode": {
    "name": "ipython",
    "version": 2
   },
   "file_extension": ".py",
   "mimetype": "text/x-python",
   "name": "python",
   "nbconvert_exporter": "python",
   "pygments_lexer": "ipython2",
   "version": "2.7.12+"
  }
 },
 "nbformat": 4,
 "nbformat_minor": 2
}
