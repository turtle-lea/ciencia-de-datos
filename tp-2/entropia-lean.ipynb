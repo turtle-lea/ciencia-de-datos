{
 "cells": [
  {
   "cell_type": "code",
   "execution_count": 1,
   "metadata": {
    "collapsed": false
   },
   "outputs": [],
   "source": [
    "import scipy.io as sio\n",
    "import matplotlib.pyplot as plt\n",
    "from scipy.signal import welch\n",
    "import pandas as pd\n",
    "import seaborn\n",
    "import numpy as np\n",
    "from matplotlib.colors import LogNorm\n",
    "import math  #<......necesario\n",
    "Samples = 201"
   ]
  },
  {
   "cell_type": "code",
   "execution_count": 2,
   "metadata": {
    "collapsed": true
   },
   "outputs": [],
   "source": [
    "#Tamaño de un bin = (max(x)-min(x)) * (2*(x.75-x.25)^-1) * n^{1/3}\n",
    "\n",
    "#x.75 y x.25 son los cuartiles de la mustra, es decir los valores que acumulan .25 y .75 de probabilidad\n",
    "#suponindo que tomamos a todos los elementos de la matriz con igual probabilidad 1/(#elementos)\n",
    "#los cuartiles surgen de ordenar los elementos \n",
    "#y tomar el que deje 1/4 de probabilidad(#elementos) a la derecha = x25\n",
    "#y el que deje 1/4 de probabilidad(#elementos) a la izquierda = x75"
   ]
  },
  {
   "cell_type": "code",
   "execution_count": 3,
   "metadata": {
    "collapsed": true
   },
   "outputs": [],
   "source": [
    "def calculate_bin_max_min(matrix_sujeto):\n",
    "    cant_electrodos = matrix_sujeto.shape[1]\n",
    "    x25 = np.zeros(cant_electrodos)\n",
    "    x75 = np.zeros(cant_electrodos)\n",
    "    maximum = np.zeros(cant_electrodos)\n",
    "    minimum = np.zeros(cant_electrodos)\n",
    "    \n",
    "    for i in range(0,cant_electrodos):\n",
    "        electrodo_actual = np.copy(matrix_sujeto[:, i, :])\n",
    "        np.sort(electrodo_actual, axis=None)\n",
    "\n",
    "        maximum[i] = electrodo_actual.max()\n",
    "        minimum[i] = electrodo_actual.min()\n",
    "        x75[i] = np.percentile(electrodo_actual, 75)\n",
    "        x25[i] = np.percentile(electrodo_actual, 25)\n",
    "        \n",
    "    return maximum, minimum, x75, x25"
   ]
  },
  {
   "cell_type": "code",
   "execution_count": 4,
   "metadata": {
    "collapsed": true
   },
   "outputs": [],
   "source": [
    "def calculate_tbin(maximum, minimum, x75, x25):\n",
    "    n_instances = 201 * 894\n",
    "    return 2 * (x75-x25) / (math.pow(n_instances,1.0/3))"
   ]
  },
  {
   "cell_type": "code",
   "execution_count": 13,
   "metadata": {
    "collapsed": true
   },
   "outputs": [],
   "source": [
    "# numpy arange step\n",
    "def calculate_probabilities(electrodo_matrix, max_val, min_val, t_bin):\n",
    "    bins = np.arange(min_val, max_val, t_bin)\n",
    "    acum = np.zeros(bins.shape[0] - 1)\n",
    "    for i in range(0, electrodo_matrix.shape[0]):\n",
    "        hist, _ = np.histogram(electrodo_matrix[i,:], bins=bins)\n",
    "        acum = acum + hist\n",
    "    return (acum / float(electrodo_matrix.shape[0] * electrodo_matrix.shape[1]))"
   ]
  },
  {
   "cell_type": "code",
   "execution_count": 6,
   "metadata": {
    "collapsed": true
   },
   "outputs": [],
   "source": [
    "def calculate_entropia(proba_x, cant_epochs, cant_muestras):\n",
    "    res=0\n",
    "    for i in range(0,len(proba_x)):\n",
    "        res = res + (proba_x[i]/(cant_epochs*cant_muestras))*math.log((proba_x[i]/(cant_epochs*cant_muestras))+1,10)\n",
    "    return -res"
   ]
  },
  {
   "cell_type": "code",
   "execution_count": 14,
   "metadata": {
    "collapsed": true
   },
   "outputs": [],
   "source": [
    "def entropias_electrodos_por_sujeto(filename):\n",
    "    p01 = sio.loadmat(filename)\n",
    "    matrix_p01 = p01['data']\n",
    "    cant_epochs = matrix_p01.shape[0]\n",
    "    cant_electrodos = matrix_p01.shape[1]\n",
    "    cant_muestras = matrix_p01.shape[2] \n",
    "    \n",
    "    maximum_values, minimum_values, x75_values, x25_values = calculate_bin_max_min(matrix_p01)\n",
    "    \n",
    "    entropia_por_electrodo = []\n",
    "    for i in range(cant_electrodos):\n",
    "        electrodo_i_matrix = matrix_p01[:, i, :]\n",
    "        t_bin = calculate_tbin(maximum_values[i], minimum_values[i], x75_values[i], x25_values[i])\n",
    "        probabilities = calculate_probabilities(electrodo_i_matrix, maximum_values[i], minimum_values[i], t_bin)\n",
    "        entropia_por_electrodo.append(calculate_entropia(probabilities, cant_epochs, cant_muestras))\n",
    "    return entropia_por_electrodo"
   ]
  },
  {
   "cell_type": "code",
   "execution_count": 15,
   "metadata": {
    "collapsed": true
   },
   "outputs": [],
   "source": [
    "filename = \"/Users/lmatayoshi/Desktop/EEG/S01.mat\""
   ]
  },
  {
   "cell_type": "code",
   "execution_count": 16,
   "metadata": {
    "collapsed": false
   },
   "outputs": [],
   "source": [
    "res = entropias_electrodos_por_sujeto(filename)"
   ]
  },
  {
   "cell_type": "code",
   "execution_count": 10,
   "metadata": {
    "collapsed": false
   },
   "outputs": [
    {
     "data": {
      "image/png": "[encoded data removed]",
      "text/plain": [
       "<matplotlib.figure.Figure at 0x10a9186d0>"
      ]
     },
     "metadata": {},
     "output_type": "display_data"
    }
   ],
   "source": [
    "plt.bar(range(len(res[:10])), res[:10])\n",
    "plt.show()"
   ]
  },
  {
   "cell_type": "code",
   "execution_count": 11,
   "metadata": {
    "collapsed": false
   },
   "outputs": [],
   "source": [
    "m = np.random.uniform(-10, 10, 20).reshape((4,5))"
   ]
  },
  {
   "cell_type": "code",
   "execution_count": 12,
   "metadata": {
    "collapsed": false
   },
   "outputs": [
    {
     "data": {
      "text/plain": [
       "array([[-2.46047507,  4.37759638,  4.88929119,  7.71675294,  8.39908415],\n",
       "       [-0.30559768,  2.69243022,  3.89734867,  7.26775079,  9.1506975 ],\n",
       "       [-6.80538792, -3.55355547,  0.15729475,  3.59110341,  7.69206086],\n",
       "       [-5.28270694, -5.24995764, -2.99244072,  6.13904623,  7.52105486]])"
      ]
     },
     "execution_count": 12,
     "metadata": {},
     "output_type": "execute_result"
    }
   ],
   "source": [
    "np.sort(m)"
   ]
  },
  {
   "cell_type": "code",
   "execution_count": null,
   "metadata": {
    "collapsed": true
   },
   "outputs": [],
   "source": []
  }
 ],
 "metadata": {
  "kernelspec": {
   "display_name": "Python 2",
   "language": "python",
   "name": "python2"
  },
  "language_info": {
   "codemirror_mode": {
    "name": "ipython",
    "version": 2
   },
   "file_extension": ".py",
   "mimetype": "text/x-python",
   "name": "python",
   "nbconvert_exporter": "python",
   "pygments_lexer": "ipython2",
   "version": "2.7.12"
  }
 },
 "nbformat": 4,
 "nbformat_minor": 1
}
