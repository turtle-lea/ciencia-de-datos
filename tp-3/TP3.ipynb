{
 "cells": [
  {
   "cell_type": "markdown",
   "metadata": {},
   "source": [
    "# TP3"
   ]
  },
  {
   "cell_type": "code",
   "execution_count": 10,
   "metadata": {
    "collapsed": true
   },
   "outputs": [],
   "source": [
    "import scipy.io as sio\n",
    "import matplotlib.pyplot as plt\n",
    "from scipy.signal import welch\n",
    "import scipy as sp\n",
    "import pandas as pd\n",
    "import seaborn\n",
    "import numpy as np\n",
    "from matplotlib.colors import LogNorm\n",
    "import math\n",
    "import itertools\n",
    "\n",
    "%matplotlib inline\n",
    "\n",
    "Samples = 201\n",
    "Duration = 0.8\n",
    "\n",
    "DELTA = (0,4)\n",
    "THETA = (4,8)\n",
    "ALPHA = (8,13)\n",
    "BETA = (13,30)\n",
    "GAMMA = (30,45) \n",
    "\n",
    "electrodes = [4,12,13,14,19,20,21,22,25,26,27,28,29,31,32,33,34,35]"
   ]
  },
  {
   "cell_type": "code",
   "execution_count": 3,
   "metadata": {
    "collapsed": false
   },
   "outputs": [],
   "source": [
    "cant_electrodes = len(electrodes)"
   ]
  },
  {
   "cell_type": "markdown",
   "metadata": {},
   "source": [
    "### sujetos"
   ]
  },
  {
   "cell_type": "code",
   "execution_count": 5,
   "metadata": {
    "collapsed": true
   },
   "outputs": [],
   "source": [
    "SUJETOS_P = [\"/Users/lmatayoshi/Desktop/EEG/P\" + str(0) + str(i) + \".mat\" for i in range(1,10)]\n",
    "SUJETOS_P.append(\"/Users/lmatayoshi/Desktop/EEG/P10.mat\")\n",
    "\n",
    "SUJETOS_S = [\"/Users/lmatayoshi/Desktop/EEG/S\" + str(0) + str(i) + \".mat\" for i in range(1,10)]\n",
    "SUJETOS_S.append(\"/Users/lmatayoshi/Desktop/EEG/S10.mat\")"
   ]
  },
  {
   "cell_type": "code",
   "execution_count": 6,
   "metadata": {
    "collapsed": true
   },
   "outputs": [],
   "source": [
    "def banda_frecuencia_groups():\n",
    "    frecuencias_S = []\n",
    "    frecuencias_P = []\n",
    "    for sujeto_S in SUJETOS_S:\n",
    "        frecuencias_S.append(bandas_frecuencia_sujeto(sujeto_S))\n",
    "    for sujeto_P in SUJETOS_P:\n",
    "        frecuencias_P.append(bandas_frecuencia_sujeto(sujeto_P))\n",
    "    \n",
    "    return frecuencias_S, frecuencias_P\n",
    "\n",
    "def bandas_frecuencia_sujeto(sujeto,electrodes): \n",
    "    \"\"\"\n",
    "    Esta función se realizo para gráficar las bandas de frecuencia para un solo sujeto (con fines de economizar tiempo)\n",
    "    En caso de de ser necesario puede agrandarse a varios sujetos,  ver 2.e \n",
    "    \"\"\"\n",
    "    \n",
    "    sujeto_matrix = sio.loadmat(sujeto)\n",
    "    sujeto_matrix = sujeto_matrix['data']\n",
    "    mean_epoch = np.mean(sujeto_matrix[:,electrodes,:], axis=1) # Promedio de todos los electrodos\n",
    "    f, Pxx = welch(mean_epoch, float(Samples/Duration), nfft=1025) # Realizo un welch por epoca\n",
    "    \n",
    "    pxs.shape()\n",
    "    \n",
    "    xs = []\n",
    "    for i in [DELTA[1],THETA[1],ALPHA[1],BETA[1]]:\n",
    "        for j in range(0,len(f)):\n",
    "            if(f[j]>i):\n",
    "                xs.append(j);\n",
    "                break;\n",
    "    Delta = np.mean(electrodes_power_mean[0:xs[0]])\n",
    "    Theta = np.mean(electrodes_power_mean[xs[0]:xs[1]])\n",
    "    Alpha = np.mean(electrodes_power_mean[xs[1]:xs[2]])\n",
    "    Beta = np.mean(electrodes_power_mean[xs[2]:xs[3]])\n",
    "    Gamma = np.mean(electrodes_power_mean[xs[3]:])\n",
    "    \n",
    "    Delta_SD = np.std(electrodes_power_std[0:xs[0]])\n",
    "    Theta_SD = np.std(electrodes_power_std[xs[0]:xs[1]])\n",
    "    Alpha_SD = np.std(electrodes_power_std[xs[1]:xs[2]])\n",
    "    Beta_SD = np.std(electrodes_power_std[xs[2]:xs[3]])\n",
    "    Gamma_SD = np.std(electrodes_power_std[xs[3]:])\n",
    "    \n",
    "    \n",
    "    electrodes_power_mean = np.mean(Pxx, axis=0) # Se promedian las potencias de todas las epocas, se obtiene\n",
    "                                                 # de esta manera, un valor de potencia promedio para cada frec\n",
    "    \n",
    "    \n",
    "    \n",
    "    \n",
    "    bandas_power = ([Delta, Theta, Alpha, Beta, Gamma],[Delta_SD, Theta_SD, Alpha_SD, Beta_SD, Gamma_SD])\n",
    "    return bandas_power"
   ]
  },
  {
   "cell_type": "code",
   "execution_count": 7,
   "metadata": {
    "collapsed": false
   },
   "outputs": [
    {
     "ename": "NameError",
     "evalue": "name 'pd' is not defined",
     "output_type": "error",
     "traceback": [
      "\u001b[0;31m---------------------------------------------------------------------------\u001b[0m",
      "\u001b[0;31mNameError\u001b[0m                                 Traceback (most recent call last)",
      "\u001b[0;32m<ipython-input-7-1b13d777ee74>\u001b[0m in \u001b[0;36m<module>\u001b[0;34m()\u001b[0m\n\u001b[0;32m----> 1\u001b[0;31m \u001b[0mres_main_S_dataframe\u001b[0m \u001b[0;34m=\u001b[0m \u001b[0mpd\u001b[0m\u001b[0;34m.\u001b[0m\u001b[0mDataFrame\u001b[0m\u001b[0;34m(\u001b[0m\u001b[0mres_main_S\u001b[0m\u001b[0;34m,\u001b[0m \u001b[0mcolumns\u001b[0m \u001b[0;34m=\u001b[0m \u001b[0;34m[\u001b[0m\u001b[0;34m\"Delta\"\u001b[0m\u001b[0;34m,\u001b[0m \u001b[0;34m\"Theta\"\u001b[0m\u001b[0;34m,\u001b[0m \u001b[0;34m\"Alpha\"\u001b[0m\u001b[0;34m,\u001b[0m \u001b[0;34m\"Beta\"\u001b[0m\u001b[0;34m,\u001b[0m \u001b[0;34m\"Gamma\"\u001b[0m\u001b[0;34m]\u001b[0m\u001b[0;34m)\u001b[0m\u001b[0;34m\u001b[0m\u001b[0m\n\u001b[0m\u001b[1;32m      2\u001b[0m \u001b[0mres_main_P_dataframe\u001b[0m \u001b[0;34m=\u001b[0m \u001b[0mpd\u001b[0m\u001b[0;34m.\u001b[0m\u001b[0mDataFrame\u001b[0m\u001b[0;34m(\u001b[0m\u001b[0mres_main_P\u001b[0m\u001b[0;34m,\u001b[0m \u001b[0mcolumns\u001b[0m \u001b[0;34m=\u001b[0m \u001b[0;34m[\u001b[0m\u001b[0;34m\"Delta\"\u001b[0m\u001b[0;34m,\u001b[0m \u001b[0;34m\"Theta\"\u001b[0m\u001b[0;34m,\u001b[0m \u001b[0;34m\"Alpha\"\u001b[0m\u001b[0;34m,\u001b[0m \u001b[0;34m\"Beta\"\u001b[0m\u001b[0;34m,\u001b[0m \u001b[0;34m\"Gamma\"\u001b[0m\u001b[0;34m]\u001b[0m\u001b[0;34m)\u001b[0m\u001b[0;34m\u001b[0m\u001b[0m\n",
      "\u001b[0;31mNameError\u001b[0m: name 'pd' is not defined"
     ]
    }
   ],
   "source": [
    "res_main_S_dataframe = pd.DataFrame(res_main_S, columns = [\"Delta\", \"Theta\", \"Alpha\", \"Beta\", \"Gamma\"])\n",
    "res_main_P_dataframe = pd.DataFrame(res_main_P, columns = [\"Delta\", \"Theta\", \"Alpha\", \"Beta\", \"Gamma\"])"
   ]
  },
  {
   "cell_type": "code",
   "execution_count": 8,
   "metadata": {
    "collapsed": true
   },
   "outputs": [],
   "source": [
    "def bandas_normalizadas_frecuencia_sujeto(sujeto): \n",
    "    \"\"\"\n",
    "    Esta función se realizo para gráficar las bandas de frecuencia para un solo sujeto (con fines de economizar tiempo)\n",
    "    En caso de de ser necesario puede agrandarse a varios sujetos,  ver 2.e \n",
    "    \"\"\"\n",
    "    sujeto_matrix = sio.loadmat(sujeto)\n",
    "    sujeto_matrix = sujeto_matrix['data']\n",
    "    mean_epoch = np.mean(sujeto_matrix, axis=0) # romedio de todas las epocas (como hace diego)\n",
    "    f, Pxx = welch(mean_epoch, float(Samples/Duration), nfft=1025)\n",
    "\n",
    "    indices_bandas = []\n",
    "    for i in [DELTA[1],THETA[1],ALPHA[1],BETA[1],GAMMA[1]]:\n",
    "        for j in range(0,len(f)):\n",
    "            if(f[j]>i):\n",
    "                indices_bandas.append(j);\n",
    "                break;\n",
    "    for i in ELECTRODE:\n",
    "        valores_de_normalizacion = [sum(Pxx[i][0:indices_bandas[4]])]                              \n",
    "        \n",
    "        Pxx[i][0:indices_bandas[0]] = Pxx[i][0:indices_bandas[0]] / valores_de_normalizacion #[0]\n",
    "        Pxx[i][indices_bandas[0]:indices_bandas[1]] = Pxx[i][indices_bandas[0]:indices_bandas[1]] / valores_de_normalizacion #[1]\n",
    "        Pxx[i][indices_bandas[1]:indices_bandas[2]] = Pxx[i][indices_bandas[1]:indices_bandas[2]] / valores_de_normalizacion #[2]\n",
    "        Pxx[i][indices_bandas[2]:indices_bandas[3]] = Pxx[i][indices_bandas[2]:indices_bandas[3]] / valores_de_normalizacion #[3]\n",
    "        Pxx[i][indices_bandas[3]:indices_bandas[4]] = Pxx[i][indices_bandas[3]:indices_bandas[4]] / valores_de_normalizacion#[4]\n",
    "    \"\"\"\n",
    "    Antes era esto lo que aparecia:\n",
    "    \n",
    "     for i in ELECTRODE:\n",
    "        valores_de_normalizacion = [sum(Pxx[i][0:indices_bandas[0]])\n",
    "                                    ,sum(Pxx[i][indices_bandas[0]:indices_bandas[1]])\n",
    "                                    ,sum(Pxx[i][indices_bandas[1]:indices_bandas[2]])\n",
    "                                    ,sum(Pxx[i][indices_bandas[2]:indices_bandas[3]])\n",
    "                                    ,sum(Pxx[i][indices_bandas[3]:indices_bandas[4]])]\n",
    "        \n",
    "    \"\"\" \n",
    "    # Prueba para ver si la normalización es correcta\n",
    "    #print \"Despues\"\n",
    "    #print sum(Pxx[ELECTRODE[0]][0:indices_bandas[0]])\n",
    "    #print Pxx[ELECTRODE].shape\n",
    "    electrodes_power_mean = np.mean(Pxx[ELECTRODE], axis=0) #promedio de la potencia x frecuencia de todos los electrodos\n",
    "        \n",
    "    Delta = np.mean(electrodes_power_mean[0:indices_bandas[0]])\n",
    "    Theta = np.mean(electrodes_power_mean[indices_bandas[0]:indices_bandas[1]])\n",
    "    Alpha = np.mean(electrodes_power_mean[indices_bandas[1]:indices_bandas[2]])\n",
    "    Beta = np.mean(electrodes_power_mean[indices_bandas[2]:indices_bandas[3]])\n",
    "    Gamma = np.mean(electrodes_power_mean[indices_bandas[3]:indices_bandas[4]])\n",
    "    \n",
    "    res = [Delta, Theta, Alpha, Beta, Gamma]\n",
    "    return res\n",
    "\n",
    "def bandas_normalizadas_groups():\n",
    "    frecuencias_S = []\n",
    "    frecuencias_P = []\n",
    "    for sujeto_S in SUJETOS_S:\n",
    "        frecuencias_S.append(bandas_normalizadas_frecuencia_sujeto(sujeto_S))\n",
    "    for sujeto_P in SUJETOS_P:\n",
    "        frecuencias_P.append(bandas_normalizadas_frecuencia_sujeto(sujeto_P))    \n",
    "    return frecuencias_S, frecuencias_P"
   ]
  },
  {
   "cell_type": "code",
   "execution_count": 9,
   "metadata": {
    "collapsed": false,
    "scrolled": true
   },
   "outputs": [
    {
     "ename": "NameError",
     "evalue": "name 'sio' is not defined",
     "output_type": "error",
     "traceback": [
      "\u001b[0;31m---------------------------------------------------------------------------\u001b[0m",
      "\u001b[0;31mNameError\u001b[0m                                 Traceback (most recent call last)",
      "\u001b[0;32m<ipython-input-9-fcf7fe2491db>\u001b[0m in \u001b[0;36m<module>\u001b[0;34m()\u001b[0m\n\u001b[0;32m----> 1\u001b[0;31m \u001b[0mfrec_normalizadas_S\u001b[0m\u001b[0;34m,\u001b[0m \u001b[0mfrec_normalizadas_P\u001b[0m \u001b[0;34m=\u001b[0m \u001b[0mbandas_normalizadas_groups\u001b[0m\u001b[0;34m(\u001b[0m\u001b[0;34m)\u001b[0m\u001b[0;34m\u001b[0m\u001b[0m\n\u001b[0m",
      "\u001b[0;32m<ipython-input-8-31dc0805bdd7>\u001b[0m in \u001b[0;36mbandas_normalizadas_groups\u001b[0;34m()\u001b[0m\n\u001b[1;32m     53\u001b[0m     \u001b[0mfrecuencias_P\u001b[0m \u001b[0;34m=\u001b[0m \u001b[0;34m[\u001b[0m\u001b[0;34m]\u001b[0m\u001b[0;34m\u001b[0m\u001b[0m\n\u001b[1;32m     54\u001b[0m     \u001b[0;32mfor\u001b[0m \u001b[0msujeto_S\u001b[0m \u001b[0;32min\u001b[0m \u001b[0mSUJETOS_S\u001b[0m\u001b[0;34m:\u001b[0m\u001b[0;34m\u001b[0m\u001b[0m\n\u001b[0;32m---> 55\u001b[0;31m         \u001b[0mfrecuencias_S\u001b[0m\u001b[0;34m.\u001b[0m\u001b[0mappend\u001b[0m\u001b[0;34m(\u001b[0m\u001b[0mbandas_normalizadas_frecuencia_sujeto\u001b[0m\u001b[0;34m(\u001b[0m\u001b[0msujeto_S\u001b[0m\u001b[0;34m)\u001b[0m\u001b[0;34m)\u001b[0m\u001b[0;34m\u001b[0m\u001b[0m\n\u001b[0m\u001b[1;32m     56\u001b[0m     \u001b[0;32mfor\u001b[0m \u001b[0msujeto_P\u001b[0m \u001b[0;32min\u001b[0m \u001b[0mSUJETOS_P\u001b[0m\u001b[0;34m:\u001b[0m\u001b[0;34m\u001b[0m\u001b[0m\n\u001b[1;32m     57\u001b[0m         \u001b[0mfrecuencias_P\u001b[0m\u001b[0;34m.\u001b[0m\u001b[0mappend\u001b[0m\u001b[0;34m(\u001b[0m\u001b[0mbandas_normalizadas_frecuencia_sujeto\u001b[0m\u001b[0;34m(\u001b[0m\u001b[0msujeto_P\u001b[0m\u001b[0;34m)\u001b[0m\u001b[0;34m)\u001b[0m\u001b[0;34m\u001b[0m\u001b[0m\n",
      "\u001b[0;32m<ipython-input-8-31dc0805bdd7>\u001b[0m in \u001b[0;36mbandas_normalizadas_frecuencia_sujeto\u001b[0;34m(sujeto)\u001b[0m\n\u001b[1;32m      4\u001b[0m     \u001b[0mEn\u001b[0m \u001b[0mcaso\u001b[0m \u001b[0mde\u001b[0m \u001b[0mde\u001b[0m \u001b[0mser\u001b[0m \u001b[0mnecesario\u001b[0m \u001b[0mpuede\u001b[0m \u001b[0magrandarse\u001b[0m \u001b[0ma\u001b[0m \u001b[0mvarios\u001b[0m \u001b[0msujetos\u001b[0m\u001b[0;34m,\u001b[0m  \u001b[0mver\u001b[0m \u001b[0;36m2.\u001b[0m\u001b[0me\u001b[0m\u001b[0;34m\u001b[0m\u001b[0m\n\u001b[1;32m      5\u001b[0m     \"\"\"\n\u001b[0;32m----> 6\u001b[0;31m     \u001b[0msujeto_matrix\u001b[0m \u001b[0;34m=\u001b[0m \u001b[0msio\u001b[0m\u001b[0;34m.\u001b[0m\u001b[0mloadmat\u001b[0m\u001b[0;34m(\u001b[0m\u001b[0msujeto\u001b[0m\u001b[0;34m)\u001b[0m\u001b[0;34m\u001b[0m\u001b[0m\n\u001b[0m\u001b[1;32m      7\u001b[0m     \u001b[0msujeto_matrix\u001b[0m \u001b[0;34m=\u001b[0m \u001b[0msujeto_matrix\u001b[0m\u001b[0;34m[\u001b[0m\u001b[0;34m'data'\u001b[0m\u001b[0;34m]\u001b[0m\u001b[0;34m\u001b[0m\u001b[0m\n\u001b[1;32m      8\u001b[0m     \u001b[0mmean_epoch\u001b[0m \u001b[0;34m=\u001b[0m \u001b[0mnp\u001b[0m\u001b[0;34m.\u001b[0m\u001b[0mmean\u001b[0m\u001b[0;34m(\u001b[0m\u001b[0msujeto_matrix\u001b[0m\u001b[0;34m,\u001b[0m \u001b[0maxis\u001b[0m\u001b[0;34m=\u001b[0m\u001b[0;36m0\u001b[0m\u001b[0;34m)\u001b[0m \u001b[0;31m# romedio de todas las epocas (como hace diego)\u001b[0m\u001b[0;34m\u001b[0m\u001b[0m\n",
      "\u001b[0;31mNameError\u001b[0m: name 'sio' is not defined"
     ]
    }
   ],
   "source": [
    "frec_normalizadas_S, frec_normalizadas_P = bandas_normalizadas_groups()"
   ]
  },
  {
   "cell_type": "code",
   "execution_count": 11,
   "metadata": {
    "collapsed": false
   },
   "outputs": [
    {
     "ename": "NameError",
     "evalue": "name 'frec_normalizadas_S' is not defined",
     "output_type": "error",
     "traceback": [
      "\u001b[0;31m---------------------------------------------------------------------------\u001b[0m",
      "\u001b[0;31mNameError\u001b[0m                                 Traceback (most recent call last)",
      "\u001b[0;32m<ipython-input-11-d261b768b32c>\u001b[0m in \u001b[0;36m<module>\u001b[0;34m()\u001b[0m\n\u001b[0;32m----> 1\u001b[0;31m \u001b[0mnorm_S_dataframe\u001b[0m \u001b[0;34m=\u001b[0m \u001b[0mpd\u001b[0m\u001b[0;34m.\u001b[0m\u001b[0mDataFrame\u001b[0m\u001b[0;34m(\u001b[0m\u001b[0mfrec_normalizadas_S\u001b[0m\u001b[0;34m,\u001b[0m \u001b[0mcolumns\u001b[0m \u001b[0;34m=\u001b[0m \u001b[0;34m[\u001b[0m\u001b[0;34m\"Delta\"\u001b[0m\u001b[0;34m,\u001b[0m \u001b[0;34m\"Theta\"\u001b[0m\u001b[0;34m,\u001b[0m \u001b[0;34m\"Alpha\"\u001b[0m\u001b[0;34m,\u001b[0m \u001b[0;34m\"Beta\"\u001b[0m\u001b[0;34m,\u001b[0m \u001b[0;34m\"Gamma\"\u001b[0m\u001b[0;34m]\u001b[0m\u001b[0;34m)\u001b[0m\u001b[0;34m\u001b[0m\u001b[0m\n\u001b[0m\u001b[1;32m      2\u001b[0m \u001b[0mnorm_P_dataframe\u001b[0m \u001b[0;34m=\u001b[0m \u001b[0mpd\u001b[0m\u001b[0;34m.\u001b[0m\u001b[0mDataFrame\u001b[0m\u001b[0;34m(\u001b[0m\u001b[0mfrec_normalizadas_P\u001b[0m\u001b[0;34m,\u001b[0m \u001b[0mcolumns\u001b[0m \u001b[0;34m=\u001b[0m \u001b[0;34m[\u001b[0m\u001b[0;34m\"Delta\"\u001b[0m\u001b[0;34m,\u001b[0m \u001b[0;34m\"Theta\"\u001b[0m\u001b[0;34m,\u001b[0m \u001b[0;34m\"Alpha\"\u001b[0m\u001b[0;34m,\u001b[0m \u001b[0;34m\"Beta\"\u001b[0m\u001b[0;34m,\u001b[0m \u001b[0;34m\"Gamma\"\u001b[0m\u001b[0;34m]\u001b[0m\u001b[0;34m)\u001b[0m\u001b[0;34m\u001b[0m\u001b[0m\n",
      "\u001b[0;31mNameError\u001b[0m: name 'frec_normalizadas_S' is not defined"
     ]
    }
   ],
   "source": [
    "norm_S_dataframe = pd.DataFrame(frec_normalizadas_S, columns = [\"Delta\", \"Theta\", \"Alpha\", \"Beta\", \"Gamma\"])\n",
    "norm_P_dataframe = pd.DataFrame(frec_normalizadas_P, columns = [\"Delta\", \"Theta\", \"Alpha\", \"Beta\", \"Gamma\"])"
   ]
  },
  {
   "cell_type": "markdown",
   "metadata": {},
   "source": [
    "# Entropia intraelectrodo"
   ]
  },
  {
   "cell_type": "code",
   "execution_count": 18,
   "metadata": {
    "collapsed": true
   },
   "outputs": [],
   "source": [
    "def calculate_bin_max_min(matrix_sujeto):\n",
    "    cant_electrodos = matrix_sujeto.shape[1]\n",
    "    x25 = np.zeros(cant_electrodos)\n",
    "    x75 = np.zeros(cant_electrodos)\n",
    "    maximum = np.zeros(cant_electrodos)\n",
    "    minimum = np.zeros(cant_electrodos)\n",
    "    \n",
    "    for i in range(0,cant_electrodos):\n",
    "        electrodo_actual = np.copy(matrix_sujeto[:, i, :])\n",
    "        np.sort(electrodo_actual, axis=None)\n",
    "\n",
    "        maximum[i] = electrodo_actual.max()\n",
    "        minimum[i] = electrodo_actual.min()\n",
    "        x75[i] = np.percentile(electrodo_actual, 75)\n",
    "        x25[i] = np.percentile(electrodo_actual, 25)\n",
    "        \n",
    "    return np.max(maximum), np.min(minimum), np.mean(x75), np.mean(x25)"
   ]
  },
  {
   "cell_type": "code",
   "execution_count": 19,
   "metadata": {
    "collapsed": true
   },
   "outputs": [],
   "source": [
    "def calculate_tbin(maximum, minimum, x75, x25, matrix_shape):\n",
    "    n_instances = matrix_shape[0] * matrix_shape[2]\n",
    "    return 2 * (x75-x25) / (math.pow(n_instances,1.0/3))"
   ]
  },
  {
   "cell_type": "code",
   "execution_count": 20,
   "metadata": {
    "collapsed": true
   },
   "outputs": [],
   "source": [
    "# numpy arange step\n",
    "def calculate_probabilities(electrodo_matrix, max_val, min_val, t_bin):\n",
    "    bins = np.arange(min_val, max_val, t_bin)\n",
    "    acum = np.zeros(bins.shape[0] - 1)\n",
    "    for i in range(0, electrodo_matrix.shape[0]):\n",
    "        hist, _ = np.histogram(electrodo_matrix[i,:], bins=bins)\n",
    "        acum = acum + hist\n",
    "    return (acum / float(electrodo_matrix.shape[0] * electrodo_matrix.shape[1]))"
   ]
  },
  {
   "cell_type": "code",
   "execution_count": 21,
   "metadata": {
    "collapsed": true
   },
   "outputs": [],
   "source": [
    "def calculate_entropia(proba_x, cant_epochs, cant_muestras):\n",
    "    res=0\n",
    "    for i in range(0,len(proba_x)):\n",
    "        if proba_x[i] > 0:\n",
    "            res = res + (proba_x[i]/(cant_epochs*cant_muestras))*math.log((proba_x[i]/(cant_epochs*cant_muestras)),10)\n",
    "    return -res"
   ]
  },
  {
   "cell_type": "code",
   "execution_count": 22,
   "metadata": {
    "collapsed": true
   },
   "outputs": [],
   "source": [
    "def entropias_electrodos_por_sujeto(filename):\n",
    "    p01 = sio.loadmat(filename)\n",
    "    matrix_p01 = p01['data']\n",
    "    cant_epochs = matrix_p01.shape[0]\n",
    "    cant_electrodos = matrix_p01.shape[1]\n",
    "    cant_muestras = matrix_p01.shape[2] \n",
    "    \n",
    "    max_value, min_value, x75, x25 = calculate_bin_max_min(matrix_p01)\n",
    "    t_bin = calculate_tbin(max_value, min_value, x75, x25, matrix_p01.shape)\n",
    "    \n",
    "    entropia_por_electrodo = []\n",
    "    for i in range(cant_electrodos):\n",
    "        electrodo_i_matrix = matrix_p01[:, i, :]\n",
    "        #t_bin = calculate_tbin(maximum_values[i], minimum_values[i], x75_values[i], x25_values[i])\n",
    "        probabilities = calculate_probabilities(electrodo_i_matrix, max_value, min_value, t_bin)\n",
    "        entropia_por_electrodo.append(calculate_entropia(probabilities, cant_epochs, cant_muestras))\n",
    "    return entropia_por_electrodo"
   ]
  },
  {
   "cell_type": "code",
   "execution_count": 23,
   "metadata": {
    "collapsed": false
   },
   "outputs": [
    {
     "ename": "NameError",
     "evalue": "name 'filename_P' is not defined",
     "output_type": "error",
     "traceback": [
      "\u001b[0;31m---------------------------------------------------------------------------\u001b[0m",
      "\u001b[0;31mNameError\u001b[0m                                 Traceback (most recent call last)",
      "\u001b[0;32m<ipython-input-23-9eb78a80aea3>\u001b[0m in \u001b[0;36m<module>\u001b[0;34m()\u001b[0m\n\u001b[0;32m----> 1\u001b[0;31m \u001b[0mres_P\u001b[0m \u001b[0;34m=\u001b[0m \u001b[0mentropias_electrodos_por_sujeto\u001b[0m\u001b[0;34m(\u001b[0m\u001b[0mfilename_P\u001b[0m\u001b[0;34m)\u001b[0m\u001b[0;34m\u001b[0m\u001b[0m\n\u001b[0m",
      "\u001b[0;31mNameError\u001b[0m: name 'filename_P' is not defined"
     ]
    }
   ],
   "source": [
    "res_P = entropias_electrodos_por_sujeto(filename_P)"
   ]
  },
  {
   "cell_type": "markdown",
   "metadata": {},
   "source": [
    "# Entropia conjunta  Interelectrodo"
   ]
  },
  {
   "cell_type": "code",
   "execution_count": 13,
   "metadata": {
    "collapsed": true
   },
   "outputs": [],
   "source": [
    "def calculate_serie(electrodo_matrix, electrodo_serie, min_val, t_bin, cant_bins):\n",
    "    tam_fila = electrodo_matrix.shape[0] #cant_epochs\n",
    "    tam_columna = electrodo_matrix.shape[1] #cant_muestras\n",
    "\n",
    "    vec = np.zeros(cant_bins)\n",
    "    a = 0\n",
    "    \n",
    "    for i in range(0,tam_fila):\n",
    "        for j in range(0,tam_columna):\n",
    "            bin_index = int((electrodo_matrix[i][j]-min_val)/t_bin)\n",
    "            vec[bin_index]=vec[bin_index]+1\n",
    "            electrodo_serie[i][j] = ord('A')+bin_index\n",
    "            a=a+1"
   ]
  },
  {
   "cell_type": "code",
   "execution_count": 14,
   "metadata": {
    "collapsed": true
   },
   "outputs": [],
   "source": [
    "def probabilidad_conjunta(matrix_serie_1,matrix_serie_2, cant_bins):\n",
    "    \n",
    "    mat_PConjunta = np.zeros((cant_bins,cant_bins))\n",
    "\n",
    "    tam_fila_serie = matrix_serie_1.shape[0]\n",
    "    tam_columna_serie = matrix_serie_1.shape[1]\n",
    "\n",
    "    size_serie = tam_fila_serie*tam_columna_serie\n",
    "    \n",
    "    for i in range(0,tam_fila_serie):\n",
    "        for j in range(0,tam_columna_serie):\n",
    "            index_f = int(matrix_serie_1[i][j]-ord('A'))\n",
    "            index_c = int(matrix_serie_2[i][j]-ord('A'))\n",
    "            mat_PConjunta[index_f][index_c]=mat_PConjunta[index_f][index_c]+1\n",
    "            \n",
    "    for i in range(0,cant_bins):\n",
    "        for j in range(0,cant_bins):\n",
    "            mat_PConjunta[i][j]=mat_PConjunta[i][j]/size_serie\n",
    "            \n",
    "    return mat_PConjunta"
   ]
  },
  {
   "cell_type": "code",
   "execution_count": 15,
   "metadata": {
    "collapsed": true
   },
   "outputs": [],
   "source": [
    "def calculate_entropia_conjunta(matrix_serie_1,matrix_serie_2,cant_bins):\n",
    "\n",
    "    mat_PConjunta = probabilidad_conjunta(matrix_serie_1,matrix_serie_2,cant_bins)\n",
    "    \n",
    "    res=0\n",
    "    for h in range(0,mat_PConjunta.shape[0]):\n",
    "        for k in range(0,mat_PConjunta.shape[1]):\n",
    "            if(mat_PConjunta[h][k]!=0):\n",
    "                res=res+(mat_PConjunta[h][k])*math.log(mat_PConjunta[h][k])\n",
    "    return -res"
   ]
  },
  {
   "cell_type": "code",
   "execution_count": 17,
   "metadata": {
    "collapsed": false
   },
   "outputs": [
    {
     "ename": "OSError",
     "evalue": "[Errno 2] No such file or directory: '/Users/lmatayoshi/Desktop/EEG/P01.mat'",
     "output_type": "error",
     "traceback": [
      "\u001b[0;31m---------------------------------------------------------------------------\u001b[0m",
      "\u001b[0;31mFileNotFoundError\u001b[0m                         Traceback (most recent call last)",
      "\u001b[0;32m/usr/lib/python3/dist-packages/scipy/io/matlab/mio.py\u001b[0m in \u001b[0;36m_open_file\u001b[0;34m(file_like, appendmat)\u001b[0m\n\u001b[1;32m     22\u001b[0m         \u001b[0;32mtry\u001b[0m\u001b[0;34m:\u001b[0m\u001b[0;34m\u001b[0m\u001b[0m\n\u001b[0;32m---> 23\u001b[0;31m             \u001b[0;32mreturn\u001b[0m \u001b[0mopen\u001b[0m\u001b[0;34m(\u001b[0m\u001b[0mfile_like\u001b[0m\u001b[0;34m,\u001b[0m \u001b[0;34m'rb'\u001b[0m\u001b[0;34m)\u001b[0m\u001b[0;34m\u001b[0m\u001b[0m\n\u001b[0m\u001b[1;32m     24\u001b[0m         \u001b[0;32mexcept\u001b[0m \u001b[0mIOError\u001b[0m \u001b[0;32mas\u001b[0m \u001b[0me\u001b[0m\u001b[0;34m:\u001b[0m\u001b[0;34m\u001b[0m\u001b[0m\n",
      "\u001b[0;31mFileNotFoundError\u001b[0m: [Errno 2] No such file or directory: '/Users/lmatayoshi/Desktop/EEG/P01.mat'",
      "\nDuring handling of the above exception, another exception occurred:\n",
      "\u001b[0;31mOSError\u001b[0m                                   Traceback (most recent call last)",
      "\u001b[0;32m<ipython-input-17-17884912f5f5>\u001b[0m in \u001b[0;36m<module>\u001b[0;34m()\u001b[0m\n\u001b[0;32m----> 1\u001b[0;31m \u001b[0mp01\u001b[0m \u001b[0;34m=\u001b[0m \u001b[0msio\u001b[0m\u001b[0;34m.\u001b[0m\u001b[0mloadmat\u001b[0m\u001b[0;34m(\u001b[0m\u001b[0;34m\"/Users/lmatayoshi/Desktop/EEG/P01.mat\"\u001b[0m\u001b[0;34m)\u001b[0m\u001b[0;34m\u001b[0m\u001b[0m\n\u001b[0m\u001b[1;32m      2\u001b[0m \u001b[0mmatrix_p01\u001b[0m \u001b[0;34m=\u001b[0m \u001b[0mp01\u001b[0m\u001b[0;34m[\u001b[0m\u001b[0;34m'data'\u001b[0m\u001b[0;34m]\u001b[0m\u001b[0;34m\u001b[0m\u001b[0m\n\u001b[1;32m      3\u001b[0m \u001b[0;31m#epoch x electrodos x muestras\u001b[0m\u001b[0;34m\u001b[0m\u001b[0;34m\u001b[0m\u001b[0m\n\u001b[1;32m      4\u001b[0m \u001b[0;34m\u001b[0m\u001b[0m\n\u001b[1;32m      5\u001b[0m \u001b[0;31m#Shapes\u001b[0m\u001b[0;34m\u001b[0m\u001b[0;34m\u001b[0m\u001b[0m\n",
      "\u001b[0;32m/usr/lib/python3/dist-packages/scipy/io/matlab/mio.py\u001b[0m in \u001b[0;36mloadmat\u001b[0;34m(file_name, mdict, appendmat, **kwargs)\u001b[0m\n\u001b[1;32m    123\u001b[0m     \"\"\"\n\u001b[1;32m    124\u001b[0m     \u001b[0mvariable_names\u001b[0m \u001b[0;34m=\u001b[0m \u001b[0mkwargs\u001b[0m\u001b[0;34m.\u001b[0m\u001b[0mpop\u001b[0m\u001b[0;34m(\u001b[0m\u001b[0;34m'variable_names'\u001b[0m\u001b[0;34m,\u001b[0m \u001b[0;32mNone\u001b[0m\u001b[0;34m)\u001b[0m\u001b[0;34m\u001b[0m\u001b[0m\n\u001b[0;32m--> 125\u001b[0;31m     \u001b[0mMR\u001b[0m \u001b[0;34m=\u001b[0m \u001b[0mmat_reader_factory\u001b[0m\u001b[0;34m(\u001b[0m\u001b[0mfile_name\u001b[0m\u001b[0;34m,\u001b[0m \u001b[0mappendmat\u001b[0m\u001b[0;34m,\u001b[0m \u001b[0;34m**\u001b[0m\u001b[0mkwargs\u001b[0m\u001b[0;34m)\u001b[0m\u001b[0;34m\u001b[0m\u001b[0m\n\u001b[0m\u001b[1;32m    126\u001b[0m     \u001b[0mmatfile_dict\u001b[0m \u001b[0;34m=\u001b[0m \u001b[0mMR\u001b[0m\u001b[0;34m.\u001b[0m\u001b[0mget_variables\u001b[0m\u001b[0;34m(\u001b[0m\u001b[0mvariable_names\u001b[0m\u001b[0;34m)\u001b[0m\u001b[0;34m\u001b[0m\u001b[0m\n\u001b[1;32m    127\u001b[0m     \u001b[0;32mif\u001b[0m \u001b[0mmdict\u001b[0m \u001b[0;32mis\u001b[0m \u001b[0;32mnot\u001b[0m \u001b[0;32mNone\u001b[0m\u001b[0;34m:\u001b[0m\u001b[0;34m\u001b[0m\u001b[0m\n",
      "\u001b[0;32m/usr/lib/python3/dist-packages/scipy/io/matlab/mio.py\u001b[0m in \u001b[0;36mmat_reader_factory\u001b[0;34m(file_name, appendmat, **kwargs)\u001b[0m\n\u001b[1;32m     52\u001b[0m        \u001b[0mtype\u001b[0m \u001b[0mdetected\u001b[0m \u001b[0;32min\u001b[0m\u001b[0;31m \u001b[0m\u001b[0;31m`\u001b[0m\u001b[0mfilename\u001b[0m\u001b[0;31m`\u001b[0m\u001b[0;34m.\u001b[0m\u001b[0;34m\u001b[0m\u001b[0m\n\u001b[1;32m     53\u001b[0m     \"\"\"\n\u001b[0;32m---> 54\u001b[0;31m     \u001b[0mbyte_stream\u001b[0m \u001b[0;34m=\u001b[0m \u001b[0m_open_file\u001b[0m\u001b[0;34m(\u001b[0m\u001b[0mfile_name\u001b[0m\u001b[0;34m,\u001b[0m \u001b[0mappendmat\u001b[0m\u001b[0;34m)\u001b[0m\u001b[0;34m\u001b[0m\u001b[0m\n\u001b[0m\u001b[1;32m     55\u001b[0m     \u001b[0mmjv\u001b[0m\u001b[0;34m,\u001b[0m \u001b[0mmnv\u001b[0m \u001b[0;34m=\u001b[0m \u001b[0mget_matfile_version\u001b[0m\u001b[0;34m(\u001b[0m\u001b[0mbyte_stream\u001b[0m\u001b[0;34m)\u001b[0m\u001b[0;34m\u001b[0m\u001b[0m\n\u001b[1;32m     56\u001b[0m     \u001b[0;32mif\u001b[0m \u001b[0mmjv\u001b[0m \u001b[0;34m==\u001b[0m \u001b[0;36m0\u001b[0m\u001b[0;34m:\u001b[0m\u001b[0;34m\u001b[0m\u001b[0m\n",
      "\u001b[0;32m/usr/lib/python3/dist-packages/scipy/io/matlab/mio.py\u001b[0m in \u001b[0;36m_open_file\u001b[0;34m(file_like, appendmat)\u001b[0m\n\u001b[1;32m     26\u001b[0m                 \u001b[0mfile_like\u001b[0m \u001b[0;34m+=\u001b[0m \u001b[0;34m'.mat'\u001b[0m\u001b[0;34m\u001b[0m\u001b[0m\n\u001b[1;32m     27\u001b[0m                 \u001b[0;32mreturn\u001b[0m \u001b[0mopen\u001b[0m\u001b[0;34m(\u001b[0m\u001b[0mfile_like\u001b[0m\u001b[0;34m,\u001b[0m \u001b[0;34m'rb'\u001b[0m\u001b[0;34m)\u001b[0m\u001b[0;34m\u001b[0m\u001b[0m\n\u001b[0;32m---> 28\u001b[0;31m             \u001b[0;32mraise\u001b[0m \u001b[0mIOError\u001b[0m\u001b[0;34m(\u001b[0m\u001b[0me\u001b[0m\u001b[0;34m)\u001b[0m\u001b[0;34m\u001b[0m\u001b[0m\n\u001b[0m\u001b[1;32m     29\u001b[0m     \u001b[0;31m# not a string - maybe file-like object\u001b[0m\u001b[0;34m\u001b[0m\u001b[0;34m\u001b[0m\u001b[0m\n\u001b[1;32m     30\u001b[0m     \u001b[0;32mtry\u001b[0m\u001b[0;34m:\u001b[0m\u001b[0;34m\u001b[0m\u001b[0m\n",
      "\u001b[0;31mOSError\u001b[0m: [Errno 2] No such file or directory: '/Users/lmatayoshi/Desktop/EEG/P01.mat'"
     ]
    }
   ],
   "source": [
    "p01 = sio.loadmat(\"/Users/lmatayoshi/Desktop/EEG/P01.mat\")\n",
    "matrix_p01 = p01['data']\n",
    "#epoch x electrodos x muestras\n",
    "\n",
    "#Shapes\n",
    "cant_epochs = matrix_p01.shape[0]\n",
    "cant_electrodos = matrix_p01.shape[1]\n",
    "cant_muestras = matrix_p01.shape[2]\n",
    "\n",
    "#Bins\n",
    "max_value, min_value, x75, x25 = calculate_bin_max_min(matrix_p01)\n",
    "t_bin = calculate_tbin(max_value, min_value, x75, x25, matrix_p01.shape)\n",
    "cant_bins = int((max_value-min_value)/t_bin)+1\n",
    "\n",
    "#Matrices\n",
    "array_electrodos_matrix = []\n",
    "array_electrodos_serie = []\n",
    "for i in electrodes:\n",
    "    array_electrodos_matrix.append(matrix_p01[:, i, :])\n",
    "for i in range(0,len(electrodes)):\n",
    "    array_electrodos_serie.append(np.zeros((cant_epochs, cant_muestras)))\n",
    "\n",
    "#calculamos las series\n",
    "for i in range(0,len(electrodes)):\n",
    "    calculate_serie(array_electrodos_matrix[i],array_electrodos_serie[i], min_value, t_bin, cant_bins)\n",
    "\n",
    "#electrodos tomados de a 2\n",
    "electrodos_tomados_de_a_2 = list(itertools.combinations(range(0,len(electrodes)), 2))\n",
    "electrodos_tomados_de_a_2 = [list(e) for e in electrodos_tomados_de_a_2]\n",
    "\n",
    "# El calculo de la entropia conjunta para la combinatoria tarda bastante en ejecutarse (5-10 min)\n",
    "array_entropia_conjunta = []\n",
    "for par in electrodos_tomados_de_a_2:\n",
    "    array_entropia_conjunta.append(calculate_entropia_conjunta(array_electrodos_serie[par[0]],array_electrodos_serie[par[1]],cant_bins))\n",
    "\n",
    "array_entropia_conjunta_P = np.copy(array_entropia_conjunta)"
   ]
  },
  {
   "cell_type": "code",
   "execution_count": null,
   "metadata": {
    "collapsed": true
   },
   "outputs": [],
   "source": []
  }
 ],
 "metadata": {
  "kernelspec": {
   "display_name": "Python 3",
   "language": "python",
   "name": "python3"
  },
  "language_info": {
   "codemirror_mode": {
    "name": "ipython",
    "version": 3
   },
   "file_extension": ".py",
   "mimetype": "text/x-python",
   "name": "python",
   "nbconvert_exporter": "python",
   "pygments_lexer": "ipython3",
   "version": "3.4.3"
  }
 },
 "nbformat": 4,
 "nbformat_minor": 1
}
