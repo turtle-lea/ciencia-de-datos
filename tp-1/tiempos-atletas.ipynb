{
 "cells": [
  {
   "cell_type": "code",
   "execution_count": null,
   "metadata": {
    "collapsed": true
   },
   "outputs": [],
   "source": [
    "# TO_DO:\n",
    "# punto 3, correlación\n",
    "# Medida de normalidad\n",
    "# Histograma para que quede lindo\n",
    "# Permutaciones (punto 1, tal vez). Pregunta para la permutación"
   ]
  },
  {
   "cell_type": "code",
   "execution_count": 67,
   "metadata": {},
   "outputs": [],
   "source": [
    "import numpy as np\n",
    "import matplotlib.pyplot as plt\n",
    "import scipy.stats as sp"
   ]
  },
  {
   "cell_type": "code",
   "execution_count": 5,
   "metadata": {
    "collapsed": true
   },
   "outputs": [],
   "source": [
    "atletas = \"/Users/lmatayoshi/Desktop/tp1-ciencia-datos/tiempos.txt\""
   ]
  },
  {
   "cell_type": "code",
   "execution_count": 48,
   "metadata": {},
   "outputs": [],
   "source": [
    "dataset = np.loadtxt(atletas, skiprows = 1)"
   ]
  },
  {
   "cell_type": "code",
   "execution_count": 49,
   "metadata": {},
   "outputs": [],
   "source": [
    "# Usamos 2 desvíos standard para eliminar outliers\n",
    "dataset2 = np.array(dataset)\n",
    "mean_sol = np.mean(dataset2[:, 1])\n",
    "std_sol = np.std(dataset2[:, 1])\n",
    "mean_nublado = np.mean(dataset2[:, 2])\n",
    "std_nublado = np.std(dataset2[:, 2])\n",
    "mean_lluvia = np.mean(dataset2[:, 3])\n",
    "std_lluvia = np.std(dataset2[:, 3])\n",
    "\n",
    "dataset_without_outliers = []\n",
    "for row in dataset2:\n",
    "    if (row[1] < 2*std_sol + mean_sol and row[2] < 2*std_nublado + mean_nublado and row[3] < 2 * std_lluvia + mean_lluvia):\n",
    "        dataset_without_outliers.append(row)\n"
   ]
  },
  {
   "cell_type": "code",
   "execution_count": 56,
   "metadata": {
    "collapsed": true
   },
   "outputs": [],
   "source": [
    "sol = []\n",
    "nublado = []\n",
    "lluvia = []\n",
    "for i in range (0,len(dataset_without_outliers)):\n",
    "    sol.append(dataset_without_outliers[i][1])\n",
    "    nublado.append(dataset_without_outliers[i][2])\n",
    "    lluvia.append(dataset_without_outliers[i][3])"
   ]
  },
  {
   "cell_type": "code",
   "execution_count": 64,
   "metadata": {},
   "outputs": [],
   "source": [
    "xs = np.array(dataset_without_outliers)[:, 0]"
   ]
  },
  {
   "cell_type": "code",
   "execution_count": 69,
   "metadata": {},
   "outputs": [
    {
     "data": {
      "image/png": "[encoded data removed]",
      "text/plain": [
       "<matplotlib.figure.Figure at 0x10cfd93d0>"
      ]
     },
     "metadata": {},
     "output_type": "display_data"
    }
   ],
   "source": [
    "plt.plot(xs, sol, label=\"sol\")\n",
    "plt.plot(xs, nublado, label=\"nublado\")\n",
    "plt.plot(xs, lluvia, label=\"lluvia\")\n",
    "plt.legend()\n",
    "plt.show()"
   ]
  },
  {
   "cell_type": "code",
   "execution_count": 36,
   "metadata": {
    "collapsed": true
   },
   "outputs": [],
   "source": [
    "# Usamos 2 desvíos standard para eliminar outliers"
   ]
  },
  {
   "cell_type": "code",
   "execution_count": null,
   "metadata": {
    "collapsed": true
   },
   "outputs": [],
   "source": [
    "# H_0: En días soleados, los atletas NO CORREN más rápido que en días lluviosos"
   ]
  },
  {
   "cell_type": "code",
   "execution_count": 68,
   "metadata": {},
   "outputs": [
    {
     "data": {
      "text/plain": [
       "Ttest_relResult(statistic=-8.1659802299869533, pvalue=9.832130127750511e-06)"
      ]
     },
     "execution_count": 68,
     "metadata": {},
     "output_type": "execute_result"
    }
   ],
   "source": [
    "sp.ttest_rel(sol,lluvia)"
   ]
  },
  {
   "cell_type": "code",
   "execution_count": null,
   "metadata": {
    "collapsed": true
   },
   "outputs": [],
   "source": [
    "# H_0: El clima nublado no influye en el tiempo de los atletas"
   ]
  },
  {
   "cell_type": "code",
   "execution_count": 70,
   "metadata": {},
   "outputs": [
    {
     "data": {
      "text/plain": [
       "Ttest_relResult(statistic=1.600386423731163e-15, pvalue=0.99999999999999878)"
      ]
     },
     "execution_count": 70,
     "metadata": {},
     "output_type": "execute_result"
    }
   ],
   "source": [
    "sp.ttest_rel(sol, nublado)"
   ]
  },
  {
   "cell_type": "code",
   "execution_count": 73,
   "metadata": {
    "collapsed": true
   },
   "outputs": [],
   "source": [
    "# H_0: La velocidad en días de lluvia es independiente del atleta. Ergo, el desvío standard\n",
    "# de la distribución debería ser bajo"
   ]
  },
  {
   "cell_type": "code",
   "execution_count": 72,
   "metadata": {},
   "outputs": [
    {
     "name": "stdout",
     "output_type": "stream",
     "text": [
      "0.435795084153\n"
     ]
    }
   ],
   "source": [
    "print np.std(lluvia)"
   ]
  },
  {
   "cell_type": "code",
   "execution_count": 75,
   "metadata": {},
   "outputs": [
    {
     "name": "stdout",
     "output_type": "stream",
     "text": [
      "F_onewayResult(statistic=36.907516413855539, pvalue=8.1830487111034126e-09)\n"
     ]
    }
   ],
   "source": [
    "# Anova un factor,  con la condicion \"Clima\" como factor de 3 niveles\n",
    "# H_0: No hay diferencia en la distribucion de los diferentes niveles de condicion clima\n",
    "# ergo: los grupos presentan las mismas velocidades sin importar la condicion climàtica\n",
    "anova_clima = sp.f_oneway(sol,nublado,lluvia)\n",
    "print anova_clima"
   ]
  },
  {
   "cell_type": "code",
   "execution_count": null,
   "metadata": {
    "collapsed": true
   },
   "outputs": [],
   "source": []
  }
 ],
 "metadata": {
  "kernelspec": {
   "display_name": "Python 2",
   "language": "python",
   "name": "python2"
  },
  "language_info": {
   "codemirror_mode": {
    "name": "ipython",
    "version": 2
   },
   "file_extension": ".py",
   "mimetype": "text/x-python",
   "name": "python",
   "nbconvert_exporter": "python",
   "pygments_lexer": "ipython2",
   "version": "2.7.10"
  }
 },
 "nbformat": 4,
 "nbformat_minor": 2
}
