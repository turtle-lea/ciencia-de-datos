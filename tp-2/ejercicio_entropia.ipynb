{
 "cells": [
  {
   "cell_type": "code",
   "execution_count": 30,
   "metadata": {},
   "outputs": [],
   "source": [
    "import scipy.io as sio\n",
    "import matplotlib.pyplot as plt\n",
    "from scipy.signal import welch\n",
    "import pandas as pd\n",
    "import seaborn\n",
    "import numpy as np\n",
    "from matplotlib.colors import LogNorm\n",
    "import math \n",
    "#<......necesario\n",
    "Samples = 201"
   ]
  },
  {
   "cell_type": "code",
   "execution_count": 31,
   "metadata": {
    "collapsed": true
   },
   "outputs": [],
   "source": [
    "filename = \"/home/natalia/Escritorio/ciencia-de-datos/tp-2/P01.mat\""
   ]
  },
  {
   "cell_type": "code",
   "execution_count": 32,
   "metadata": {},
   "outputs": [],
   "source": [
    "p01 = sio.loadmat(filename)"
   ]
  },
  {
   "cell_type": "code",
   "execution_count": 33,
   "metadata": {},
   "outputs": [
    {
     "name": "stdout",
     "output_type": "stream",
     "text": [
      "(894, 256, 201)\n"
     ]
    }
   ],
   "source": [
    "matrix_p01 = p01['data']\n",
    "\n",
    "print matrix_p01.shape\n",
    "\n",
    "#epoch x electrodos x muestras\n",
    "\n",
    "cant_epochs = matrix_p01.shape[0]\n",
    "cant_electrodos = matrix_p01.shape[1]\n",
    "cant_muestras = matrix_p01.shape[2] \n",
    "#SAMPLES"
   ]
  },
  {
   "cell_type": "code",
   "execution_count": 48,
   "metadata": {},
   "outputs": [],
   "source": [
    "#electrodo 8\n",
    "electrodo_8_matrix = matrix_p01[:, 8, :]\n",
    "#electrodo 44\n",
    "electrodo_44_matrix = matrix_p01[:,44, :]\n",
    "electrodo_80_matrix = matrix_p01[:, 80, :]\n",
    "electrodo_131_matrix = matrix_p01[:, 131, :]\n",
    "electrodo_185_matrix = matrix_p01[:, 185, :]\n",
    "#print electrodo_8_matrix.shape\n",
    "#print electrodo_44_matrix.shape"
   ]
  },
  {
   "cell_type": "code",
   "execution_count": 35,
   "metadata": {
    "collapsed": true
   },
   "outputs": [],
   "source": [
    "#Tamaño de un bin = (max(x)-min(x)) * (2*(x.75-x.25)^-1) * n^{1/3}\n",
    "\n",
    "#x.75 y x.25 son los cuartiles de la mustra, es decir los valores que acumulan .25 y .75 de probabilidad\n",
    "#suponindo que tomamos a todos los elementos de la matriz con igual probabilidad 1/(#elementos)\n",
    "#los cuartiles surgen de ordenar los elementos \n",
    "#y tomar el que deje 1/4 de probabilidad(#elementos) a la derecha = x25\n",
    "#y el que deje 1/4 de probabilidad(#elementos) a la izquierda = x75"
   ]
  },
  {
   "cell_type": "code",
   "execution_count": 43,
   "metadata": {},
   "outputs": [],
   "source": [
    "def calculate_bin_max_min(matrix_sujeto, max_val, min_val,t_bin):\n",
    "    x25_parcial = np.zeros(cant_electrodos)\n",
    "    x75_parcial = np.zeros(cant_electrodos)\n",
    "    max_parcial = np.zeros(cant_electrodos)\n",
    "    min_parcial = np.zeros(cant_electrodos)\n",
    "    \n",
    "    #fila y columna de la matriz: electrodo_actual<<\n",
    "    tam_fila = cant_epochs\n",
    "    tam_columna = cant_muestras\n",
    "\n",
    "    n_val = tam_fila*tam_columna\n",
    "\n",
    "    f_x75 = int((n_val*0.75) % tam_fila)\n",
    "    c_x75 = int((n_val*0.75) / tam_fila)\n",
    "    f_x25 = int((n_val*0.25) % tam_fila)\n",
    "    c_x25 = int((n_val*0.25) / tam_fila)\n",
    "\n",
    "    for i in range(0,cant_electrodos):\n",
    "        electrodo_actual = matrix_sujeto[:, i, :]\n",
    "\n",
    "        max_parcial[i] = electrodo_actual.max()\n",
    "        min_parcial[i] = electrodo_actual.min()\n",
    "        \n",
    "        electrodo_actual.sort(axis=0)\n",
    "\n",
    "        x75_parcial[i] = electrodo_actual[f_x75][c_x75]\n",
    "        x25_parcial[i] = electrodo_actual[f_x25][c_x25]\n",
    "        \n",
    "    x25 = np.mean(x25_parcial)\n",
    "    x75 = np.mean(x75_parcial)\n",
    "    max_val = np.mean(max_parcial)\n",
    "    min_val = np.mean(min_parcial)\n",
    "    \n",
    "    t_bin = 2 * (x75-x25) * (math.pow(n_val,1/3))\n",
    "\n",
    "    return max_val,min_val,t_bin\n",
    "    #print (max_val-min_val)/t_bin"
   ]
  },
  {
   "cell_type": "code",
   "execution_count": 44,
   "metadata": {},
   "outputs": [
    {
     "name": "stdout",
     "output_type": "stream",
     "text": [
      "8.69419076427e-05\n",
      "-7.94926540323e-05\n",
      "1.97052410811e-05\n"
     ]
    }
   ],
   "source": [
    "max_val,min_val,t_bin = calculate_bin_max_min(matrix_p01, 0, 0,0)\n",
    "print max_val\n",
    "print min_val\n",
    "print t_bin"
   ]
  },
  {
   "cell_type": "code",
   "execution_count": 38,
   "metadata": {},
   "outputs": [],
   "source": [
    "#print electrodo_8_matrix_sort"
   ]
  },
  {
   "cell_type": "code",
   "execution_count": 39,
   "metadata": {},
   "outputs": [],
   "source": [
    "#cantidad de bins\n",
    "#print (max_8-min_8)/t_bin"
   ]
  },
  {
   "cell_type": "code",
   "execution_count": 40,
   "metadata": {},
   "outputs": [],
   "source": [
    "def calculate_serie(electrodo_matrix, electrodo_serie, min_val, t_bin):\n",
    "    tam_fila = electrodo_matrix.shape[0] #cant_epochs\n",
    "    tam_columna = electrodo_matrix.shape[1] #cant_muestras\n",
    "\n",
    "    vec = np.zeros(9)\n",
    "    a = 0\n",
    "\n",
    "    for i in range(0,tam_fila):\n",
    "        for j in range(0,tam_columna):\n",
    "            if ((electrodo_matrix[i][j] < (min_val+t_bin))):\n",
    "                vec[0]=vec[0]+1\n",
    "                electrodo_serie[i][j] = ord('A')\n",
    "                a=a+1\n",
    "            if ((electrodo_matrix[i][j] < (min_val+2*t_bin)) & (electrodo_matrix[i][j] >= (min_val+t_bin))):\n",
    "                vec[1]=vec[1]+1\n",
    "                electrodo_serie[i][j] = ord('B')\n",
    "                a=a+1\n",
    "            if ((electrodo_matrix[i][j] < (min_val+3*t_bin)) & (electrodo_matrix[i][j] >= (min_val+2*t_bin))):\n",
    "                vec[2]=vec[2]+1\n",
    "                electrodo_serie[i][j] = ord('C')\n",
    "                a=a+1\n",
    "            if ((electrodo_matrix[i][j] < (min_val+4*t_bin)) & (electrodo_matrix[i][j] >= (min_val+3*t_bin))):\n",
    "                vec[3]=vec[3]+1\n",
    "                electrodo_serie[i][j] = ord('D')\n",
    "                a=a+1\n",
    "            if ((electrodo_matrix[i][j] < (min_val+5*t_bin)) & (electrodo_matrix[i][j] >= (min_val+4*t_bin))):\n",
    "                vec[4]=vec[4]+1\n",
    "                electrodo_serie[i][j] = ord('E')\n",
    "                a=a+1\n",
    "            if ((electrodo_matrix[i][j] < (min_val+6*t_bin)) & (electrodo_matrix[i][j] >= (min_val+5*t_bin))):\n",
    "                vec[5]=vec[5]+1\n",
    "                electrodo_serie[i][j] = ord('F')\n",
    "                a=a+1\n",
    "            if ((electrodo_matrix[i][j] < (min_val+7*t_bin)) & (electrodo_matrix[i][j] >= (min_val+6*t_bin))):\n",
    "                vec[6]=vec[6]+1\n",
    "                electrodo_serie[i][j] = ord('G')\n",
    "                a=a+1\n",
    "            if ((electrodo_matrix[i][j] < (min_val+8*t_bin)) & (electrodo_matrix[i][j] >= (min_val+7*t_bin))):\n",
    "                vec[7]=vec[7]+1\n",
    "                electrodo_serie[i][j] = ord('H')\n",
    "                a=a+1\n",
    "            if (electrodo_matrix[i][j] >= (min_val+8*t_bin)):\n",
    "                vec[8]=vec[8]+1\n",
    "                electrodo_serie[i][j] = ord('I')\n",
    "                a=a+1\n",
    "    print vec\n",
    "    print (tam_fila*tam_columna)-a"
   ]
  },
  {
   "cell_type": "code",
   "execution_count": 49,
   "metadata": {},
   "outputs": [
    {
     "name": "stdout",
     "output_type": "stream",
     "text": [
      "-7.94926540323e-05\n",
      "1.97052410811e-05\n",
      "[     0.    111.   2643.  84295.  90288.   2247.    110.      0.      0.]\n",
      "0\n",
      "[  3.10000000e+01   8.80000000e+01   1.78700000e+03   8.37260000e+04\n",
      "   9.24570000e+04   1.57900000e+03   2.60000000e+01   0.00000000e+00\n",
      "   0.00000000e+00]\n",
      "0\n",
      "[  0.00000000e+00   6.00000000e+01   1.81800000e+03   8.24890000e+04\n",
      "   9.38720000e+04   1.44900000e+03   6.00000000e+00   0.00000000e+00\n",
      "   0.00000000e+00]\n",
      "0\n",
      "[  0.00000000e+00   1.07000000e+02   2.06700000e+03   8.42770000e+04\n",
      "   9.12400000e+04   1.95300000e+03   4.40000000e+01   6.00000000e+00\n",
      "   0.00000000e+00]\n",
      "0\n",
      "[  6.00000000e+00   2.12000000e+02   2.97000000e+03   8.38400000e+04\n",
      "   8.99960000e+04   2.54000000e+03   1.30000000e+02   0.00000000e+00\n",
      "   0.00000000e+00]\n",
      "0\n"
     ]
    }
   ],
   "source": [
    "electrodo_8_serie = np.zeros((cant_epochs, cant_muestras))\n",
    "electrodo_44_serie = np.zeros((cant_epochs, cant_muestras))\n",
    "electrodo_80_serie = np.zeros((cant_epochs, cant_muestras))\n",
    "electrodo_131_serie = np.zeros((cant_epochs, cant_muestras))\n",
    "electrodo_185_serie = np.zeros((cant_epochs, cant_muestras))\n",
    "\n",
    "print min_val\n",
    "print t_bin\n",
    "\n",
    "calculate_serie(electrodo_8_matrix,electrodo_8_serie, min_val, t_bin)\n",
    "calculate_serie(electrodo_44_matrix,electrodo_44_serie, min_val, t_bin)\n",
    "calculate_serie(electrodo_80_matrix,electrodo_80_serie, min_val, t_bin)\n",
    "calculate_serie(electrodo_131_matrix,electrodo_131_serie, min_val, t_bin)\n",
    "calculate_serie(electrodo_185_matrix,electrodo_185_serie, min_val, t_bin)"
   ]
  },
  {
   "cell_type": "code",
   "execution_count": 46,
   "metadata": {},
   "outputs": [
    {
     "data": {
      "text/plain": [
       "array([[ 67.,  67.,  67., ...,  67.,  67.,  66.],\n",
       "       [ 68.,  68.,  68., ...,  67.,  67.,  67.],\n",
       "       [ 68.,  68.,  68., ...,  67.,  67.,  67.],\n",
       "       ..., \n",
       "       [ 70.,  70.,  70., ...,  70.,  70.,  70.],\n",
       "       [ 70.,  70.,  70., ...,  70.,  70.,  71.],\n",
       "       [ 70.,  70.,  70., ...,  71.,  71.,  71.]])"
      ]
     },
     "execution_count": 46,
     "metadata": {},
     "output_type": "execute_result"
    }
   ],
   "source": [
    "electrodo_8_serie"
   ]
  }
 ],
 "metadata": {
  "kernelspec": {
   "display_name": "Python 2",
   "language": "python",
   "name": "python2"
  },
  "language_info": {
   "codemirror_mode": {
    "name": "ipython",
    "version": 2
   },
   "file_extension": ".py",
   "mimetype": "text/x-python",
   "name": "python",
   "nbconvert_exporter": "python",
   "pygments_lexer": "ipython2",
   "version": "2.7.12+"
  }
 },
 "nbformat": 4,
 "nbformat_minor": 2
}
