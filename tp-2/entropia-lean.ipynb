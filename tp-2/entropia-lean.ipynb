{
 "cells": [
  {
   "cell_type": "code",
   "execution_count": 24,
   "metadata": {
    "collapsed": false
   },
   "outputs": [],
   "source": [
    "import scipy.io as sio\n",
    "import matplotlib.pyplot as plt\n",
    "from scipy.signal import welch\n",
    "import pandas as pd\n",
    "import seaborn\n",
    "import numpy as np\n",
    "from matplotlib.colors import LogNorm\n",
    "import math  #<......necesario\n",
    "Samples = 201"
   ]
  },
  {
   "cell_type": "code",
   "execution_count": 25,
   "metadata": {
    "collapsed": true
   },
   "outputs": [],
   "source": [
    "#Tamaño de un bin = (max(x)-min(x)) * (2*(x.75-x.25)^-1) * n^{1/3}\n",
    "\n",
    "#x.75 y x.25 son los cuartiles de la mustra, es decir los valores que acumulan .25 y .75 de probabilidad\n",
    "#suponindo que tomamos a todos los elementos de la matriz con igual probabilidad 1/(#elementos)\n",
    "#los cuartiles surgen de ordenar los elementos \n",
    "#y tomar el que deje 1/4 de probabilidad(#elementos) a la derecha = x25\n",
    "#y el que deje 1/4 de probabilidad(#elementos) a la izquierda = x75"
   ]
  },
  {
   "cell_type": "code",
   "execution_count": 87,
   "metadata": {
    "collapsed": true
   },
   "outputs": [],
   "source": [
    "def calculate_bin_max_min(matrix_sujeto):\n",
    "    cant_electrodos = matrix_sujeto.shape[1]\n",
    "    x25 = np.zeros(cant_electrodos)\n",
    "    x75 = np.zeros(cant_electrodos)\n",
    "    maximum = np.zeros(cant_electrodos)\n",
    "    minimum = np.zeros(cant_electrodos)\n",
    "    \n",
    "    for i in range(0,cant_electrodos):\n",
    "        electrodo_actual = np.copy(matrix_sujeto[:, i, :])\n",
    "        np.sort(electrodo_actual, axis=None)\n",
    "\n",
    "        maximum[i] = electrodo_actual.max()\n",
    "        minimum[i] = electrodo_actual.min()\n",
    "        x75[i] = np.percentile(electrodo_actual, 75)\n",
    "        x25[i] = np.percentile(electrodo_actual, 25)\n",
    "        \n",
    "    return np.max(maximum), np.min(minimum), np.mean(x75), np.mean(x25)"
   ]
  },
  {
   "cell_type": "code",
   "execution_count": 88,
   "metadata": {
    "collapsed": true
   },
   "outputs": [],
   "source": [
    "def calculate_tbin(maximum, minimum, x75, x25, matrix_shape):\n",
    "    n_instances = matrix_shape[0] * matrix_shape[2]\n",
    "    return 2 * (x75-x25) / (math.pow(n_instances,1.0/3))"
   ]
  },
  {
   "cell_type": "code",
   "execution_count": 89,
   "metadata": {
    "collapsed": true
   },
   "outputs": [],
   "source": [
    "# numpy arange step\n",
    "def calculate_probabilities(electrodo_matrix, max_val, min_val, t_bin):\n",
    "    bins = np.arange(min_val, max_val, t_bin)\n",
    "    acum = np.zeros(bins.shape[0] - 1)\n",
    "    for i in range(0, electrodo_matrix.shape[0]):\n",
    "        hist, _ = np.histogram(electrodo_matrix[i,:], bins=bins)\n",
    "        acum = acum + hist\n",
    "    return (acum / float(electrodo_matrix.shape[0] * electrodo_matrix.shape[1]))"
   ]
  },
  {
   "cell_type": "code",
   "execution_count": 90,
   "metadata": {
    "collapsed": true
   },
   "outputs": [],
   "source": [
    "def calculate_entropia(proba_x, cant_epochs, cant_muestras):\n",
    "    res=0\n",
    "    for i in range(0,len(proba_x)):\n",
    "        if proba_x[i] > 0:\n",
    "            res = res + (proba_x[i]/(cant_epochs*cant_muestras))*math.log((proba_x[i]/(cant_epochs*cant_muestras)),10)\n",
    "    return -res"
   ]
  },
  {
   "cell_type": "code",
   "execution_count": 91,
   "metadata": {
    "collapsed": true
   },
   "outputs": [],
   "source": [
    "def entropias_electrodos_por_sujeto(filename):\n",
    "    p01 = sio.loadmat(filename)\n",
    "    matrix_p01 = p01['data']\n",
    "    cant_epochs = matrix_p01.shape[0]\n",
    "    cant_electrodos = matrix_p01.shape[1]\n",
    "    cant_muestras = matrix_p01.shape[2] \n",
    "    \n",
    "    max_value, min_value, x75, x25 = calculate_bin_max_min(matrix_p01)\n",
    "    t_bin = calculate_tbin(max_value, min_value, x75, x25, matrix_p01.shape)\n",
    "    \n",
    "    entropia_por_electrodo = []\n",
    "    for i in range(cant_electrodos):\n",
    "        electrodo_i_matrix = matrix_p01[:, i, :]\n",
    "        #t_bin = calculate_tbin(maximum_values[i], minimum_values[i], x75_values[i], x25_values[i])\n",
    "        probabilities = calculate_probabilities(electrodo_i_matrix, max_value, min_value, t_bin)\n",
    "        entropia_por_electrodo.append(calculate_entropia(probabilities, cant_epochs, cant_muestras))\n",
    "    return entropia_por_electrodo"
   ]
  },
  {
   "cell_type": "code",
   "execution_count": 92,
   "metadata": {
    "collapsed": true
   },
   "outputs": [],
   "source": [
    "filename_P = \"/Users/lmatayoshi/Desktop/EEG/P01.mat\""
   ]
  },
  {
   "cell_type": "code",
   "execution_count": 93,
   "metadata": {
    "collapsed": true
   },
   "outputs": [],
   "source": [
    "res_P = entropias_electrodos_por_sujeto(filename_P)"
   ]
  },
  {
   "cell_type": "code",
   "execution_count": 94,
   "metadata": {
    "collapsed": false
   },
   "outputs": [
    {
     "data": {
      "text/plain": [
       "3.3982569448974626e-13"
      ]
     },
     "execution_count": 94,
     "metadata": {},
     "output_type": "execute_result"
    }
   ],
   "source": [
    "np.var(res_P)"
   ]
  },
  {
   "cell_type": "code",
   "execution_count": 95,
   "metadata": {
    "collapsed": false
   },
   "outputs": [
    {
     "data": {
      "image/png": "[encoded data removed]",
      "text/plain": [
       "<matplotlib.figure.Figure at 0x10af04050>"
      ]
     },
     "metadata": {},
     "output_type": "display_data"
    }
   ],
   "source": [
    "plt.bar(range(len(res_P[:256])), res_P[:256])\n",
    "plt.show()"
   ]
  },
  {
   "cell_type": "code",
   "execution_count": 96,
   "metadata": {
    "collapsed": true
   },
   "outputs": [],
   "source": [
    "filename_S = \"/Users/lmatayoshi/Desktop/EEG/S01.mat\""
   ]
  },
  {
   "cell_type": "code",
   "execution_count": 97,
   "metadata": {
    "collapsed": true
   },
   "outputs": [],
   "source": [
    "res_S = entropias_electrodos_por_sujeto(filename_S)"
   ]
  },
  {
   "cell_type": "code",
   "execution_count": 98,
   "metadata": {
    "collapsed": false
   },
   "outputs": [
    {
     "data": {
      "text/plain": [
       "1.6497097150901344e-12"
      ]
     },
     "execution_count": 98,
     "metadata": {},
     "output_type": "execute_result"
    }
   ],
   "source": [
    "np.var(res_S)"
   ]
  },
  {
   "cell_type": "code",
   "execution_count": 99,
   "metadata": {
    "collapsed": false
   },
   "outputs": [
    {
     "data": {
      "image/png": "[encoded data removed]",
      "text/plain": [
       "<matplotlib.figure.Figure at 0x10c263d10>"
      ]
     },
     "metadata": {},
     "output_type": "display_data"
    }
   ],
   "source": [
    "plt.bar(range(len(res_S[:256])), res_S[:256])\n",
    "plt.show()"
   ]
  },
  {
   "cell_type": "code",
   "execution_count": 81,
   "metadata": {
    "collapsed": true
   },
   "outputs": [],
   "source": [
    "import itertools\n",
    "def findsubsets(S,m):\n",
    "    return itertools.combinations(S, m)"
   ]
  },
  {
   "cell_type": "code",
   "execution_count": 82,
   "metadata": {
    "collapsed": true
   },
   "outputs": [],
   "source": [
    "electrodes = [8, 44, 80, 131, 185]"
   ]
  },
  {
   "cell_type": "code",
   "execution_count": 83,
   "metadata": {
    "collapsed": false
   },
   "outputs": [],
   "source": [
    "res = findsubsets(electrodes,2)"
   ]
  },
  {
   "cell_type": "code",
   "execution_count": 85,
   "metadata": {
    "collapsed": false
   },
   "outputs": [
    {
     "data": {
      "text/plain": [
       "[(8, 44),\n",
       " (8, 80),\n",
       " (8, 131),\n",
       " (8, 185),\n",
       " (44, 80),\n",
       " (44, 131),\n",
       " (44, 185),\n",
       " (80, 131),\n",
       " (80, 185),\n",
       " (131, 185)]"
      ]
     },
     "execution_count": 85,
     "metadata": {},
     "output_type": "execute_result"
    }
   ],
   "source": [
    "list(res)"
   ]
  },
  {
   "cell_type": "code",
   "execution_count": 74,
   "metadata": {
    "collapsed": false
   },
   "outputs": [
    {
     "data": {
      "text/plain": [
       "[[8, 185],\n",
       " [8, 131],\n",
       " [131, 185],\n",
       " [8, 44],\n",
       " [80, 131],\n",
       " [44, 185],\n",
       " [44, 80],\n",
       " [80, 185],\n",
       " [8, 80],\n",
       " [44, 131]]"
      ]
     },
     "execution_count": 74,
     "metadata": {},
     "output_type": "execute_result"
    }
   ],
   "source": [
    "[list(x) for x in res]"
   ]
  },
  {
   "cell_type": "code",
   "execution_count": 86,
   "metadata": {
    "collapsed": false
   },
   "outputs": [
    {
     "data": {
      "text/plain": [
       "[[8, 44],\n",
       " [8, 80],\n",
       " [8, 131],\n",
       " [8, 185],\n",
       " [44, 80],\n",
       " [44, 131],\n",
       " [44, 185],\n",
       " [80, 131],\n",
       " [80, 185],\n",
       " [131, 185]]"
      ]
     },
     "execution_count": 86,
     "metadata": {},
     "output_type": "execute_result"
    }
   ],
   "source": [
    "#electrodos tomados de a 2\n",
    "electrodes = [8, 44, 80, 131, 185]\n",
    "electrodos_tomados_de_a_2 = list(itertools.combinations(electrodes, 2))\n",
    "electrodos_tomados_de_a_2 = [list(e) for e in electrodos_tomados_de_a_2]\n",
    "electrodos_tomados_de_a_2"
   ]
  },
  {
   "cell_type": "code",
   "execution_count": 101,
   "metadata": {
    "collapsed": false
   },
   "outputs": [
    {
     "name": "stdout",
     "output_type": "stream",
     "text": [
      "8\n",
      "8\n",
      "8\n",
      "8\n",
      "44\n",
      "44\n",
      "44\n",
      "80\n",
      "80\n",
      "131\n"
     ]
    }
   ],
   "source": [
    "for (e1, e2) in electrodos_tomados_de_a_2:\n",
    "    print e1"
   ]
  },
  {
   "cell_type": "markdown",
   "metadata": {},
   "source": [
    "# Entropía conjunta"
   ]
  },
  {
   "cell_type": "code",
   "execution_count": 193,
   "metadata": {
    "collapsed": true
   },
   "outputs": [],
   "source": [
    "def entropia_conjunta_por_sujeto(filename):\n",
    "    p01 = sio.loadmat(filename)\n",
    "    matrix_p01 = p01['data']\n",
    "    cant_epochs = matrix_p01.shape[0]\n",
    "    cant_electrodos = matrix_p01.shape[1]\n",
    "    cant_muestras = matrix_p01.shape[2] \n",
    "    \n",
    "    max_value, min_value, x75, x25 = calculate_bin_max_min(matrix_p01)\n",
    "    t_bin = calculate_tbin(max_value, min_value, x75, x25, matrix_p01.shape)\n",
    "    \n",
    "    electrodes = [8, 44, 80, 131, 185]\n",
    "    electrodos_tomados_de_a_2 = list(itertools.combinations(electrodes, 2))\n",
    "    electrodos_tomados_de_a_2 = [list(e) for e in electrodos_tomados_de_a_2]\n",
    "    \n",
    "    res = []\n",
    "    for (e1, e2) in electrodos_tomados_de_a_2:\n",
    "        probabilities = calculate_joint_probabilities(matrix_p01[:, e1, :], matrix_p01[:, e2, :], max_value, min_value, t_bin)\n",
    "        res.append(calculate_entropia_conjunta(probabilities, cant_muestras))\n",
    "    return res"
   ]
  },
  {
   "cell_type": "code",
   "execution_count": 194,
   "metadata": {
    "collapsed": true
   },
   "outputs": [],
   "source": [
    "def first_matching_index(bins, value):\n",
    "    for i, item in enumerate(bins):\n",
    "        if item <= value and bins[i+1] > value:\n",
    "            return i\n",
    "            break\n",
    "    return -1"
   ]
  },
  {
   "cell_type": "code",
   "execution_count": 195,
   "metadata": {
    "collapsed": false
   },
   "outputs": [],
   "source": [
    "def calculate_joint_probabilities(m1, m2, max_value, min_value, t_bin):\n",
    "    m1 = np.mean(m1, axis=0)\n",
    "    m2 = np.mean(m2, axis=0)\n",
    "    n_instances = m1.shape[0]\n",
    "    bins = np.arange(min_value, max_value, t_bin)\n",
    "    res = np.zeros(((bins.shape[0] - 1), (bins.shape[0] - 1)))\n",
    "    for i in range(m1.shape[0]):\n",
    "        f = first_matching_index(bins, m1[i])\n",
    "        c = first_matching_index(bins, m2[i])\n",
    "        res[f, c] = res[f,c] + 1\n",
    "    return res/n_instances"
   ]
  },
  {
   "cell_type": "code",
   "execution_count": 196,
   "metadata": {
    "collapsed": true
   },
   "outputs": [],
   "source": [
    "def calculate_entropia_conjunta(probabilities, cant_muestras):\n",
    "    res = 0\n",
    "    for i in range(0, probabilities.shape[0]):\n",
    "        for j in range(0, probabilities.shape[1]):\n",
    "            if probabilities[i][j] > 0:\n",
    "                res += probabilities[i][j] * math.log(probabilities[i][j], 2)\n",
    "    return -res"
   ]
  },
  {
   "cell_type": "code",
   "execution_count": 202,
   "metadata": {
    "collapsed": true
   },
   "outputs": [],
   "source": [
    "filename_S = \"/Users/lmatayoshi/Desktop/EEG/S01.mat\"\n",
    "filename_P = \"/Users/lmatayoshi/Desktop/EEG/P01.mat\""
   ]
  },
  {
   "cell_type": "code",
   "execution_count": 203,
   "metadata": {
    "collapsed": false
   },
   "outputs": [],
   "source": [
    "res_S = entropia_conjunta_por_sujeto(filename_S)"
   ]
  },
  {
   "cell_type": "code",
   "execution_count": 204,
   "metadata": {
    "collapsed": false
   },
   "outputs": [
    {
     "data": {
      "image/png": "[encoded data removed]",
      "text/plain": [
       "<matplotlib.figure.Figure at 0x10b3b6950>"
      ]
     },
     "metadata": {},
     "output_type": "display_data"
    }
   ],
   "source": [
    "plt.bar(range(len(res_S)), res_S)\n",
    "plt.show()"
   ]
  },
  {
   "cell_type": "code",
   "execution_count": 206,
   "metadata": {
    "collapsed": false
   },
   "outputs": [],
   "source": [
    "res_P = entropia_conjunta_por_sujeto(filename_P)"
   ]
  },
  {
   "cell_type": "code",
   "execution_count": 207,
   "metadata": {
    "collapsed": false
   },
   "outputs": [
    {
     "data": {
      "image/png": "[encoded data removed]",
      "text/plain": [
       "<matplotlib.figure.Figure at 0x10b2e9d90>"
      ]
     },
     "metadata": {},
     "output_type": "display_data"
    }
   ],
   "source": [
    "plt.bar(range(len(res_P)), res_P)\n",
    "plt.show()"
   ]
  },
  {
   "cell_type": "code",
   "execution_count": null,
   "metadata": {
    "collapsed": true
   },
   "outputs": [],
   "source": []
  }
 ],
 "metadata": {
  "kernelspec": {
   "display_name": "Python 2",
   "language": "python",
   "name": "python2"
  },
  "language_info": {
   "codemirror_mode": {
    "name": "ipython",
    "version": 2
   },
   "file_extension": ".py",
   "mimetype": "text/x-python",
   "name": "python",
   "nbconvert_exporter": "python",
   "pygments_lexer": "ipython2",
   "version": "2.7.12"
  }
 },
 "nbformat": 4,
 "nbformat_minor": 1
}
