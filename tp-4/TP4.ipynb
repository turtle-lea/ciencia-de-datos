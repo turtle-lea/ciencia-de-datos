{
 "cells": [
  {
   "cell_type": "code",
   "execution_count": 3,
   "metadata": {
    "collapsed": false
   },
   "outputs": [],
   "source": [
    "import pandas as pd\n",
    "import numpy as np\n",
    "import itertools"
   ]
  },
  {
   "cell_type": "code",
   "execution_count": 4,
   "metadata": {
    "collapsed": true
   },
   "outputs": [],
   "source": [
    "filename = \"/home/npesaresi/Desktop/ciencia-de-datos/tp-4/data.csv\""
   ]
  },
  {
   "cell_type": "code",
   "execution_count": 5,
   "metadata": {
    "collapsed": true
   },
   "outputs": [],
   "source": [
    "def filter_word(word):\n",
    "    word = word.replace(\" \", \"\")\n",
    "    word = word.replace(\"--\", \"-\")\n",
    "    word = word.upper()\n",
    "    return word.replace(\"\\\\.\", \"\")"
   ]
  },
  {
   "cell_type": "code",
   "execution_count": 6,
   "metadata": {
    "collapsed": false
   },
   "outputs": [],
   "source": [
    "co_autores = []\n",
    "autores = []\n",
    "lobos_solitarios = []\n",
    "\n",
    "with open(filename,'r') as f:\n",
    "    for line in f:\n",
    "        line = line.split(',')\n",
    "        line = line[3].split('&')\n",
    "        cleaned_line = [filter_word(w) for w in line]\n",
    "        if len(cleaned_line) > 1:\n",
    "            co_autores.append(cleaned_line)\n",
    "            for i in cleaned_line:\n",
    "                autores.append(i)\n",
    "        else:\n",
    "            lobos_solitarios.append(cleaned_line)\n",
    "\n",
    "autores= list(set(autores))"
   ]
  },
  {
   "cell_type": "code",
   "execution_count": 7,
   "metadata": {
    "collapsed": true
   },
   "outputs": [],
   "source": [
    " #6,7, 12\n",
    "# black_list = [\n",
    "#     ')',\n",
    "#     '-p-dedonder',\n",
    "#     '10',\n",
    "#     'a',\n",
    "#     'pages',\n",
    "#     'p',\n",
    "#     'conclusions'\n",
    "# ]\n"
   ]
  },
  {
   "cell_type": "code",
   "execution_count": 8,
   "metadata": {
    "collapsed": false
   },
   "outputs": [],
   "source": [
    "# for b in black_list:\n",
    "#     print (b)\n",
    "#     autores.remove(b.upper())"
   ]
  },
  {
   "cell_type": "code",
   "execution_count": 9,
   "metadata": {
    "collapsed": false
   },
   "outputs": [
    {
     "name": "stdout",
     "output_type": "stream",
     "text": [
      "3684\n"
     ]
    }
   ],
   "source": [
    "autores_size = len(autores)\n",
    "print (autores_size)\n",
    "#co_autores\n",
    "adys = np.zeros((autores_size,autores_size))"
   ]
  },
  {
   "cell_type": "code",
   "execution_count": 10,
   "metadata": {
    "collapsed": false
   },
   "outputs": [],
   "source": [
    "co_autores_data = pd.DataFrame(data=adys, columns=autores, index=autores)"
   ]
  },
  {
   "cell_type": "code",
   "execution_count": 11,
   "metadata": {
    "collapsed": false
   },
   "outputs": [],
   "source": [
    "for TUPLA in co_autores:\n",
    "    pares=list(itertools.combinations(TUPLA, 2))\n",
    "    \n",
    "    for i in pares:\n",
    "       \n",
    "        co_autores_data[i[0]][i[1]]=co_autores_data[i[0]][i[1]]+1\n",
    "        co_autores_data[i[1]][i[0]]=co_autores_data[i[1]][i[0]]+1"
   ]
  },
  {
   "cell_type": "code",
   "execution_count": 12,
   "metadata": {
    "collapsed": false
   },
   "outputs": [
    {
     "ename": "ImportError",
     "evalue": "No module named 'networkx'",
     "output_type": "error",
     "traceback": [
      "\u001b[0;31m---------------------------------------------------------------------------\u001b[0m",
      "\u001b[0;31mImportError\u001b[0m                               Traceback (most recent call last)",
      "\u001b[0;32m<ipython-input-12-ec3adf3767db>\u001b[0m in \u001b[0;36m<module>\u001b[0;34m()\u001b[0m\n\u001b[0;32m----> 1\u001b[0;31m \u001b[0;32mimport\u001b[0m \u001b[0mnetworkx\u001b[0m \u001b[0;32mas\u001b[0m \u001b[0mnx\u001b[0m\u001b[0;34m\u001b[0m\u001b[0m\n\u001b[0m\u001b[1;32m      2\u001b[0m \u001b[0mG\u001b[0m \u001b[0;34m=\u001b[0m \u001b[0mnx\u001b[0m\u001b[0;34m.\u001b[0m\u001b[0mGraph\u001b[0m\u001b[0;34m(\u001b[0m\u001b[0;34m)\u001b[0m\u001b[0;34m\u001b[0m\u001b[0m\n\u001b[1;32m      3\u001b[0m \u001b[0mG\u001b[0m\u001b[0;34m.\u001b[0m\u001b[0madd_edges_from\u001b[0m\u001b[0;34m(\u001b[0m\u001b[0mco_autores_data\u001b[0m\u001b[0;34m)\u001b[0m\u001b[0;34m\u001b[0m\u001b[0m\n",
      "\u001b[0;31mImportError\u001b[0m: No module named 'networkx'"
     ]
    }
   ],
   "source": [
    "import networkx as nx\n",
    "G = nx.Graph()\n",
    "G.add_edges_from(co_autores_data)"
   ]
  },
  {
   "cell_type": "code",
   "execution_count": null,
   "metadata": {
    "collapsed": true
   },
   "outputs": [],
   "source": []
  }
 ],
 "metadata": {
  "kernelspec": {
   "display_name": "Python 3",
   "language": "python",
   "name": "python3"
  },
  "language_info": {
   "codemirror_mode": {
    "name": "ipython",
    "version": 3
   },
   "file_extension": ".py",
   "mimetype": "text/x-python",
   "name": "python",
   "nbconvert_exporter": "python",
   "pygments_lexer": "ipython3",
   "version": "3.4.3"
  }
 },
 "nbformat": 4,
 "nbformat_minor": 1
}
